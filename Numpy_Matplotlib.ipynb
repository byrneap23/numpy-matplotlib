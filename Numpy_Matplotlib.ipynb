{
  "nbformat": 4,
  "nbformat_minor": 0,
  "metadata": {
    "colab": {
      "provenance": [],
      "authorship_tag": "ABX9TyMcmG9P8kmBZPVGLDwoG4KH",
      "include_colab_link": true
    },
    "kernelspec": {
      "name": "python3",
      "display_name": "Python 3"
    },
    "language_info": {
      "name": "python"
    }
  },
  "cells": [
    {
      "cell_type": "markdown",
      "metadata": {
        "id": "view-in-github",
        "colab_type": "text"
      },
      "source": [
        "<a href=\"https://colab.research.google.com/github/byrneap23/numpy-matplotlib/blob/main/Numpy_Matplotlib.ipynb\" target=\"_parent\"><img src=\"https://colab.research.google.com/assets/colab-badge.svg\" alt=\"Open In Colab\"/></a>"
      ]
    },
    {
      "cell_type": "code",
      "execution_count": null,
      "metadata": {
        "id": "lC2L9H1JSA9R"
      },
      "outputs": [],
      "source": [
        "import numpy as np\n",
        "import sys"
      ]
    },
    {
      "cell_type": "code",
      "source": [
        "def inside_circle(total_count):\n",
        "    x = np.random.uniform(size=total_count)\n",
        "    y = np.random.uniform(size=total_count)\n",
        "    radii = np.sqrt(x*x + y*y)\n",
        "    count = len(radii[np.where(radii<=1.0)])\n",
        "    return count"
      ],
      "metadata": {
        "id": "xOpUlNbwSHLd"
      },
      "execution_count": null,
      "outputs": []
    },
    {
      "cell_type": "code",
      "source": [
        "def main():\n",
        "    n_samples = int(10)\n",
        "    counts = inside_circle(n_samples)\n",
        "    my_pi = 4.0 * counts / n_samples\n",
        "    size_of_float = np.dtype(np.float64).itemsize\n",
        "    memory_required = 3 * n_samples * size_of_float / (1024**3)\n",
        "    print(\"Pi: {}, memory: {} GiB\".format(my_pi, memory_required))\n",
        "\n",
        "if __name__ == '__main__':\n",
        "    main()"
      ],
      "metadata": {
        "colab": {
          "base_uri": "https://localhost:8080/"
        },
        "id": "bRZMLn1kSJc3",
        "outputId": "b60d0041-d9f5-4edd-9be6-d9aade083e76"
      },
      "execution_count": null,
      "outputs": [
        {
          "output_type": "stream",
          "name": "stdout",
          "text": [
            "3.2\n"
          ]
        }
      ]
    },
    {
      "cell_type": "code",
      "source": [
        "import numpy as np\n",
        "import sys\n",
        "\n",
        "def inside_circle(total_count):\n",
        "    x = np.random.uniform(size=total_count)\n",
        "    y = np.random.uniform(size=total_count)\n",
        "    radii = np.sqrt(x*x + y*y)\n",
        "    count = len(radii[np.where(radii<=1.0)])\n",
        "    return count\n",
        "\n",
        "def main():\n",
        "    n_samples = int(10)\n",
        "    counts = inside_circle(n_samples)\n",
        "    my_pi = 4.0 * counts / n_samples\n",
        "    size_of_float = np.dtype(np.float64).itemsize\n",
        "    memory_required = 3 * n_samples * size_of_float / (1024**3)\n",
        "    print(\"Pi: {}, memory: {} GiB, time: {} s\".format(my_pi, memory_required,\n",
        "                                                  elapsed_time))\n",
        "\n",
        "if __name__ == '__main__':\n",
        "    main()"
      ],
      "metadata": {
        "colab": {
          "base_uri": "https://localhost:8080/"
        },
        "id": "QACuHnXWuflZ",
        "outputId": "bfac8388-3069-4909-c876-88994a607689"
      },
      "execution_count": null,
      "outputs": [
        {
          "output_type": "stream",
          "name": "stdout",
          "text": [
            "Pi: 4.0, memory: 2.2351741790771484e-07 GiB, time: 7.674448 s\n"
          ]
        }
      ]
    },
    {
      "cell_type": "code",
      "source": [
        "import numpy as np\n",
        "import sys\n",
        "import datetime\n",
        "\n",
        "def inside_circle(total_count):\n",
        "    x = np.random.uniform(size=total_count)\n",
        "    y = np.random.uniform(size=total_count)\n",
        "    radii = np.sqrt(x*x + y*y)\n",
        "    count = len(radii[np.where(radii<=1.0)])\n",
        "    return count\n",
        "\n",
        "def main():\n",
        "    n_samples = int(10)\n",
        "    start_time = datetime.datetime.now()\n",
        "    counts = inside_circle(n_samples)\n",
        "    my_pi = 4.0 * counts / n_samples\n",
        "    end_time = datetime.datetime.now()\n",
        "    elapsed_time = (end_time - start_time).total_seconds()\n",
        "    size_of_float = np.dtype(np.float64).itemsize\n",
        "    memory_required = 3 * n_samples * size_of_float / (1024**3)\n",
        "    print(\"Pi: {}, memory: {} GiB, time: {} s\".format(my_pi, memory_required,\n",
        "                                                      elapsed_time))\n",
        "\n",
        "if __name__ == '__main__':\n",
        "    main()\n"
      ],
      "metadata": {
        "colab": {
          "base_uri": "https://localhost:8080/"
        },
        "id": "x7_ojVdXuiOa",
        "outputId": "f4149eef-bea4-46ad-c38a-8938194f8d4c"
      },
      "execution_count": null,
      "outputs": [
        {
          "output_type": "stream",
          "name": "stdout",
          "text": [
            "Pi: 2.8, memory: 2.2351741790771484e-07 GiB, time: 0.000442 s\n"
          ]
        }
      ]
    },
    {
      "cell_type": "code",
      "source": [
        "import numpy as np\n",
        "import sys\n",
        "import datetime\n",
        "import math\n",
        "\n",
        "def inside_circle(total_count):\n",
        "    x = np.random.uniform(size=total_count)\n",
        "    y = np.random.uniform(size=total_count)\n",
        "    radii = np.sqrt(x*x + y*y)\n",
        "    count = len(radii[np.where(radii<=1.0)])\n",
        "    return count\n",
        "\n",
        "def main():\n",
        "   # Looped over the number of samples from 10^2 to 10^9.\n",
        "   for n_samples in [10**exp for exp in range(2, 9)]:\n",
        "    start_time = datetime.datetime.now()\n",
        "    counts = inside_circle(n_samples)\n",
        "    my_pi = 4.0 * counts / n_samples\n",
        "    end_time = datetime.datetime.now()\n",
        "    elapsed_time = (end_time - start_time).total_seconds()\n",
        "    size_of_float = np.dtype(np.float64).itemsize\n",
        "    memory_required = 3 * n_samples * size_of_float / (1024**3)\n",
        "    # Calculating a relative error\n",
        "    rel_error = abs((my_pi - math.pi) / math.pi)\n",
        "    print(\"Pi: {}, memory: {} GiB, time: {} s, Samples: {}, Relative Error: {}\".format(my_pi, memory_required,\n",
        "                                                      elapsed_time, n_samples, rel_error))\n",
        "\n",
        "if __name__ == '__main__':\n",
        "    main()"
      ],
      "metadata": {
        "id": "1dOFGMbIR46H",
        "colab": {
          "base_uri": "https://localhost:8080/"
        },
        "outputId": "f6208ab6-5a69-4913-a8c1-32116910ebf7"
      },
      "execution_count": 14,
      "outputs": [
        {
          "output_type": "stream",
          "name": "stdout",
          "text": [
            "Pi: 3.04, memory: 2.2351741790771484e-06 GiB, time: 0.000284 s, Samples: 100, Relative Error: 0.03233794600127631\n",
            "Pi: 3.172, memory: 2.2351741790771484e-05 GiB, time: 0.000762 s, Samples: 1000, Relative Error: 0.009678958974984098\n",
            "Pi: 3.138, memory: 0.00022351741790771484 GiB, time: 0.000577 s, Samples: 10000, Relative Error: 0.0011435771552648654\n",
            "Pi: 3.1356, memory: 0.0022351741790771484 GiB, time: 0.004412 s, Samples: 100000, Relative Error: 0.001907520882105879\n",
            "Pi: 3.14218, memory: 0.022351741790771484 GiB, time: 0.040486 s, Samples: 1000000, Relative Error: 0.00018695816898347338\n",
            "Pi: 3.1426644, memory: 0.22351741790771484 GiB, time: 0.41262 s, Samples: 10000000, Relative Error: 0.00034114747785088265\n",
            "Pi: 3.14145908, memory: 2.2351741790771484 GiB, time: 4.003028 s, Samples: 100000000, Relative Error: 4.251779416414937e-05\n"
          ]
        }
      ]
    },
    {
      "cell_type": "code",
      "source": [
        "import numpy as np\n",
        "import sys\n",
        "import datetime\n",
        "import math\n",
        "\n",
        "def inside_circle(total_count):\n",
        "    x = np.random.uniform(size=total_count)\n",
        "    y = np.random.uniform(size=total_count)\n",
        "    radii = np.sqrt(x*x + y*y)\n",
        "    count = len(radii[np.where(radii<=1.0)])\n",
        "    return count\n",
        "\n",
        "def main():\n",
        "   pi_numpy = np.array( [] )\n",
        "   # Looped over the number of samples from 10^2 to 10^9.\n",
        "   for n_samples in [10**exp for exp in range(2, 9)]:\n",
        "    start_time = datetime.datetime.now()\n",
        "    counts = inside_circle(n_samples)\n",
        "    my_pi = 4.0 * counts / n_samples\n",
        "    end_time = datetime.datetime.now()\n",
        "    elapsed_time = (end_time - start_time).total_seconds()\n",
        "    size_of_float = np.dtype(np.float64).itemsize\n",
        "    memory_required = 3 * n_samples * size_of_float / (1024**3)\n",
        "    # Calculating a relative error\n",
        "    rel_error = abs((my_pi - math.pi) / math.pi)\n",
        "\n",
        "    # Creates a row with the current data values\n",
        "    data_values = np.append(pi_numpy, [my_pi, memory_required, elapsed_time, n_samples, rel_error])\n",
        "    pi_numpy = np.append(pi_numpy, data_values)\n",
        "\n",
        "    # Printing the data values\n",
        "    print(\"Pi: {}, memory: {} GiB, time: {} s, Samples: {}, Relative Error: {}\".format(my_pi, memory_required,\n",
        "                                                      elapsed_time, n_samples, rel_error))\n",
        "   # Reshaping to a 2D array\n",
        "   pi_numpy = pi_numpy.reshape(-1,5)\n",
        "\n",
        "   # Save to a CSV file\n",
        "   np.savetxt(\"pi_estimation.csv\", pi_numpy, delimiter=',')\n",
        "\n",
        "if __name__ == '__main__':\n",
        "    main()"
      ],
      "metadata": {
        "colab": {
          "base_uri": "https://localhost:8080/"
        },
        "id": "vE6NsXjqawCC",
        "outputId": "39df5b25-14a9-40cf-a0d2-948315e61f83"
      },
      "execution_count": 22,
      "outputs": [
        {
          "output_type": "stream",
          "name": "stdout",
          "text": [
            "Pi: 3.2, memory: 2.2351741790771484e-06 GiB, time: 0.000796 s, Samples: 100, Relative Error: 0.018591635788130244\n",
            "Pi: 3.148, memory: 2.2351741790771484e-05 GiB, time: 0.000128 s, Samples: 1000, Relative Error: 0.002039521706573115\n",
            "Pi: 3.1772, memory: 0.00022351741790771484 GiB, time: 0.000571 s, Samples: 10000, Relative Error: 0.01133417038313977\n",
            "Pi: 3.14124, memory: 0.0022351741790771484 GiB, time: 0.004807 s, Samples: 100000, Relative Error: 0.00011225312402941239\n",
            "Pi: 3.140148, memory: 0.022351741790771484 GiB, time: 0.05833 s, Samples: 1000000, Relative Error: 0.0004598475197420707\n",
            "Pi: 3.14064, memory: 0.22351741790771484 GiB, time: 0.512089 s, Samples: 10000000, Relative Error: 0.0003032390557396658\n",
            "Pi: 3.14151436, memory: 2.2351741790771484 GiB, time: 5.21206 s, Samples: 100000000, Relative Error: 2.4921623655983004e-05\n"
          ]
        }
      ]
    },
    {
      "cell_type": "code",
      "source": [
        "import numpy as np\n",
        "import matplotlib.pyplot as plt\n",
        "import math\n",
        "\n",
        "# Load CSV data\n",
        "data = np.loadtxt(fname='pi_estimation.csv', delimiter=',')\n",
        "\n",
        "NVal = data[:, 3]\n",
        "ErrVal = data[:, 4]\n",
        "MemVal = data[:, 1]\n",
        "TimeVal = data[:, 2]\n",
        "\n",
        "logN = []\n",
        "for n in NVal:\n",
        "    logN.append(math.log(n, 10))"
      ],
      "metadata": {
        "id": "DVJ0gK5BnlGb"
      },
      "execution_count": 27,
      "outputs": []
    },
    {
      "cell_type": "markdown",
      "source": [
        "a. How much more accurate does the estimate of π become as N is increased? When N is increased by a factor of 10, does the error decrease by a factor of 10?\n",
        "\n",
        "The accuracy of π becomes as N is increased by\n",
        "\n",
        "b. How does the amount of memory required scale as N is increased? Do you expect that it would be linear? How would the slope of the trendline in the log-log plot demonstrate that?\n",
        "\n",
        "\n",
        "\n",
        "c. How does the amount of time to calculate scale as N is increased? Do you expect that it would be linear? How would the slope of the trendline in the log-log plot demonstrate that?\n",
        "\n",
        "\n"
      ],
      "metadata": {
        "id": "MCE_Q-WMlD1H"
      }
    },
    {
      "cell_type": "code",
      "source": [
        "# N vs Error\n",
        "logErr = []\n",
        "for err in ErrVal:\n",
        "    logErr.append(math.log(err, 10))\n",
        "\n",
        "plt.figure(figsize=(6, 4))\n",
        "plt.scatter(logN, logErr)\n",
        "plt.title(\"log(N) vs log(Error)\")\n",
        "plt.xlabel(\"log(N)\")\n",
        "plt.ylabel(\"log(Error)\")\n",
        "\n",
        "z = np.polyfit(logN, logErr, 1)\n",
        "p = np.poly1d(z)\n",
        "plt.plot(logN, p(logN))\n",
        "print(z[0],z[1])\n",
        "# z[0] is the slope of the trendline\n",
        "# z[1] is the y-intercept of the trendline"
      ],
      "metadata": {
        "colab": {
          "base_uri": "https://localhost:8080/",
          "height": 427
        },
        "id": "exarlseFpYBs",
        "outputId": "fddcc9e3-92e0-4cd2-814d-b597a1050d3d"
      },
      "execution_count": 28,
      "outputs": [
        {
          "output_type": "stream",
          "name": "stdout",
          "text": [
            "-0.4420988811093805 -0.9388296061240393\n"
          ]
        },
        {
          "output_type": "display_data",
          "data": {
            "text/plain": [
              "<Figure size 600x400 with 1 Axes>"
            ],
            "image/png": "[encoded data removed]"
          },
          "metadata": {}
        }
      ]
    },
    {
      "cell_type": "code",
      "source": [
        "# N vs Memory\n",
        "logMem = []\n",
        "for mem in MemVal:\n",
        "    logMem.append(math.log(mem, 10))\n",
        "\n",
        "plt.figure(figsize=(6, 4))\n",
        "plt.scatter(logN, logMem)\n",
        "plt.title(\"log(N) vs log(Memory [GiB])\")\n",
        "plt.xlabel(\"log(N)\")\n",
        "plt.ylabel(\"log(Memory [GiB])\")\n",
        "\n",
        "z = np.polyfit(logN, logMem, 1)\n",
        "p = np.poly1d(z)\n",
        "plt.plot(logN, p(logN))\n",
        "print(z[0], z[1])\n",
        "# z[0] is the slope of the trendline\n",
        "# z[1] is the y-intercept of the trendline"
      ],
      "metadata": {
        "colab": {
          "base_uri": "https://localhost:8080/",
          "height": 427
        },
        "id": "YWxI1O3ppdah",
        "outputId": "40a5b929-7530-433e-ecbf-d4d683f73068"
      },
      "execution_count": 29,
      "outputs": [
        {
          "output_type": "stream",
          "name": "stdout",
          "text": [
            "1.0000000000000002 -7.65068862820783\n"
          ]
        },
        {
          "output_type": "display_data",
          "data": {
            "text/plain": [
              "<Figure size 600x400 with 1 Axes>"
            ],
            "image/png": "[encoded data removed]"
          },
          "metadata": {}
        }
      ]
    },
    {
      "cell_type": "code",
      "source": [
        "# N vs Compute Time\n",
        "logTime = []\n",
        "for t in TimeVal:\n",
        "    logTime.append(math.log(t, 10))\n",
        "\n",
        "plt.figure(figsize=(6, 4))\n",
        "plt.scatter(logN, logTime)\n",
        "plt.title(\"log(N) vs log(Compute Time [s])\")\n",
        "plt.xlabel(\"log(N)\")\n",
        "plt.ylabel(\"log(Compute Time [s])\")\n",
        "\n",
        "z = np.polyfit(logN, logTime, 1)\n",
        "p = np.poly1d(z)\n",
        "plt.plot(logN, p(logN))\n",
        "print(z[0],z[1])\n",
        "# z[0] is the slope of the trendline\n",
        "# z[1] is the y-intercept of the trendline"
      ],
      "metadata": {
        "colab": {
          "base_uri": "https://localhost:8080/",
          "height": 427
        },
        "id": "EjjzwIbJpmoO",
        "outputId": "fc1b8a6e-69f9-43af-b4be-928fd83b3d58"
      },
      "execution_count": 30,
      "outputs": [
        {
          "output_type": "stream",
          "name": "stdout",
          "text": [
            "0.3609864485844063 -4.198105019616982\n"
          ]
        },
        {
          "output_type": "display_data",
          "data": {
            "text/plain": [
              "<Figure size 600x400 with 1 Axes>"
            ],
            "image/png": "[encoded data removed]"
          },
          "metadata": {}
        }
      ]
    },
    {
      "cell_type": "code",
      "source": [],
      "metadata": {
        "id": "eE-iwGj5prrt"
      },
      "execution_count": null,
      "outputs": []
    }
  ]
}