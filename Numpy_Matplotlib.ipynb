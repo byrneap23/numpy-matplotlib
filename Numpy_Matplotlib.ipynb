{
  "nbformat": 4,
  "nbformat_minor": 0,
  "metadata": {
    "colab": {
      "provenance": [],
      "authorship_tag": "ABX9TyMiXF1kTt9e6UOJ35YyNtOt",
      "include_colab_link": true
    },
    "kernelspec": {
      "name": "python3",
      "display_name": "Python 3"
    },
    "language_info": {
      "name": "python"
    }
  },
  "cells": [
    {
      "cell_type": "markdown",
      "metadata": {
        "id": "view-in-github",
        "colab_type": "text"
      },
      "source": [
        "<a href=\"https://colab.research.google.com/github/byrneap23/numpy-matplotlib/blob/main/Numpy_Matplotlib.ipynb\" target=\"_parent\"><img src=\"https://colab.research.google.com/assets/colab-badge.svg\" alt=\"Open In Colab\"/></a>"
      ]
    },
    {
      "cell_type": "code",
      "execution_count": null,
      "metadata": {
        "id": "lC2L9H1JSA9R"
      },
      "outputs": [],
      "source": [
        "import numpy as np\n",
        "import sys"
      ]
    },
    {
      "cell_type": "code",
      "source": [
        "def inside_circle(total_count):\n",
        "    x = np.random.uniform(size=total_count)\n",
        "    y = np.random.uniform(size=total_count)\n",
        "    radii = np.sqrt(x*x + y*y)\n",
        "    count = len(radii[np.where(radii<=1.0)])\n",
        "    return count"
      ],
      "metadata": {
        "id": "xOpUlNbwSHLd"
      },
      "execution_count": null,
      "outputs": []
    },
    {
      "cell_type": "code",
      "source": [
        "def main():\n",
        "    n_samples = int(10)\n",
        "    counts = inside_circle(n_samples)\n",
        "    my_pi = 4.0 * counts / n_samples\n",
        "    size_of_float = np.dtype(np.float64).itemsize\n",
        "    memory_required = 3 * n_samples * size_of_float / (1024**3)\n",
        "    print(\"Pi: {}, memory: {} GiB\".format(my_pi, memory_required))\n",
        "\n",
        "if __name__ == '__main__':\n",
        "    main()"
      ],
      "metadata": {
        "colab": {
          "base_uri": "https://localhost:8080/"
        },
        "id": "bRZMLn1kSJc3",
        "outputId": "b60d0041-d9f5-4edd-9be6-d9aade083e76"
      },
      "execution_count": null,
      "outputs": [
        {
          "output_type": "stream",
          "name": "stdout",
          "text": [
            "3.2\n"
          ]
        }
      ]
    },
    {
      "cell_type": "code",
      "source": [
        "import numpy as np\n",
        "import sys\n",
        "\n",
        "def inside_circle(total_count):\n",
        "    x = np.random.uniform(size=total_count)\n",
        "    y = np.random.uniform(size=total_count)\n",
        "    radii = np.sqrt(x*x + y*y)\n",
        "    count = len(radii[np.where(radii<=1.0)])\n",
        "    return count\n",
        "\n",
        "def main():\n",
        "    n_samples = int(10)\n",
        "    counts = inside_circle(n_samples)\n",
        "    my_pi = 4.0 * counts / n_samples\n",
        "    size_of_float = np.dtype(np.float64).itemsize\n",
        "    memory_required = 3 * n_samples * size_of_float / (1024**3)\n",
        "    print(\"Pi: {}, memory: {} GiB, time: {} s\".format(my_pi, memory_required,\n",
        "                                                  elapsed_time))\n",
        "\n",
        "if __name__ == '__main__':\n",
        "    main()"
      ],
      "metadata": {
        "colab": {
          "base_uri": "https://localhost:8080/"
        },
        "id": "QACuHnXWuflZ",
        "outputId": "bfac8388-3069-4909-c876-88994a607689"
      },
      "execution_count": null,
      "outputs": [
        {
          "output_type": "stream",
          "name": "stdout",
          "text": [
            "Pi: 4.0, memory: 2.2351741790771484e-07 GiB, time: 7.674448 s\n"
          ]
        }
      ]
    },
    {
      "cell_type": "code",
      "source": [
        "import numpy as np\n",
        "import sys\n",
        "import datetime\n",
        "\n",
        "def inside_circle(total_count):\n",
        "    x = np.random.uniform(size=total_count)\n",
        "    y = np.random.uniform(size=total_count)\n",
        "    radii = np.sqrt(x*x + y*y)\n",
        "    count = len(radii[np.where(radii<=1.0)])\n",
        "    return count\n",
        "\n",
        "def main():\n",
        "    n_samples = int(10)\n",
        "    start_time = datetime.datetime.now()\n",
        "    counts = inside_circle(n_samples)\n",
        "    my_pi = 4.0 * counts / n_samples\n",
        "    end_time = datetime.datetime.now()\n",
        "    elapsed_time = (end_time - start_time).total_seconds()\n",
        "    size_of_float = np.dtype(np.float64).itemsize\n",
        "    memory_required = 3 * n_samples * size_of_float / (1024**3)\n",
        "    print(\"Pi: {}, memory: {} GiB, time: {} s\".format(my_pi, memory_required,\n",
        "                                                      elapsed_time))\n",
        "\n",
        "if __name__ == '__main__':\n",
        "    main()\n"
      ],
      "metadata": {
        "colab": {
          "base_uri": "https://localhost:8080/"
        },
        "id": "x7_ojVdXuiOa",
        "outputId": "f4149eef-bea4-46ad-c38a-8938194f8d4c"
      },
      "execution_count": null,
      "outputs": [
        {
          "output_type": "stream",
          "name": "stdout",
          "text": [
            "Pi: 2.8, memory: 2.2351741790771484e-07 GiB, time: 0.000442 s\n"
          ]
        }
      ]
    },
    {
      "cell_type": "code",
      "source": [
        "import numpy as np\n",
        "import sys\n",
        "import datetime\n",
        "import math\n",
        "\n",
        "def inside_circle(total_count):\n",
        "    x = np.random.uniform(size=total_count)\n",
        "    y = np.random.uniform(size=total_count)\n",
        "    radii = np.sqrt(x*x + y*y)\n",
        "    count = len(radii[np.where(radii<=1.0)])\n",
        "    return count\n",
        "\n",
        "def main():\n",
        "   # Looped over the number of samples from 10^2 to 10^9.\n",
        "   for n_samples in [10**exp for exp in range(2, 9)]:\n",
        "    start_time = datetime.datetime.now()\n",
        "    counts = inside_circle(n_samples)\n",
        "    my_pi = 4.0 * counts / n_samples\n",
        "    end_time = datetime.datetime.now()\n",
        "    elapsed_time = (end_time - start_time).total_seconds()\n",
        "    size_of_float = np.dtype(np.float64).itemsize\n",
        "    memory_required = 3 * n_samples * size_of_float / (1024**3)\n",
        "    # Calculating a relative error\n",
        "    rel_error = abs((my_pi - math.pi) / math.pi)\n",
        "    print(\"Pi: {}, memory: {} GiB, time: {} s, Samples: {}, Relative Error: {}\".format(my_pi, memory_required,\n",
        "                                                      elapsed_time, n_samples, rel_error))\n",
        "\n",
        "if __name__ == '__main__':\n",
        "    main()"
      ],
      "metadata": {
        "id": "1dOFGMbIR46H",
        "colab": {
          "base_uri": "https://localhost:8080/"
        },
        "outputId": "f6208ab6-5a69-4913-a8c1-32116910ebf7"
      },
      "execution_count": null,
      "outputs": [
        {
          "output_type": "stream",
          "name": "stdout",
          "text": [
            "Pi: 3.04, memory: 2.2351741790771484e-06 GiB, time: 0.000284 s, Samples: 100, Relative Error: 0.03233794600127631\n",
            "Pi: 3.172, memory: 2.2351741790771484e-05 GiB, time: 0.000762 s, Samples: 1000, Relative Error: 0.009678958974984098\n",
            "Pi: 3.138, memory: 0.00022351741790771484 GiB, time: 0.000577 s, Samples: 10000, Relative Error: 0.0011435771552648654\n",
            "Pi: 3.1356, memory: 0.0022351741790771484 GiB, time: 0.004412 s, Samples: 100000, Relative Error: 0.001907520882105879\n",
            "Pi: 3.14218, memory: 0.022351741790771484 GiB, time: 0.040486 s, Samples: 1000000, Relative Error: 0.00018695816898347338\n",
            "Pi: 3.1426644, memory: 0.22351741790771484 GiB, time: 0.41262 s, Samples: 10000000, Relative Error: 0.00034114747785088265\n",
            "Pi: 3.14145908, memory: 2.2351741790771484 GiB, time: 4.003028 s, Samples: 100000000, Relative Error: 4.251779416414937e-05\n"
          ]
        }
      ]
    },
    {
      "cell_type": "code",
      "source": [
        "import numpy as np\n",
        "import sys\n",
        "import datetime\n",
        "import math\n",
        "\n",
        "def inside_circle(total_count):\n",
        "    x = np.random.uniform(size=total_count)\n",
        "    y = np.random.uniform(size=total_count)\n",
        "    radii = np.sqrt(x*x + y*y)\n",
        "    count = len(radii[np.where(radii<=1.0)])\n",
        "    return count\n",
        "\n",
        "def main():\n",
        "   pi_numpy = np.array( [] )\n",
        "   # Looped over the number of samples from 10^2 to 10^9.\n",
        "   for n_samples in [10**exp for exp in range(2, 9)]:\n",
        "    start_time = datetime.datetime.now()\n",
        "    counts = inside_circle(n_samples)\n",
        "    my_pi = 4.0 * counts / n_samples\n",
        "    end_time = datetime.datetime.now()\n",
        "    elapsed_time = (end_time - start_time).total_seconds()\n",
        "    size_of_float = np.dtype(np.float64).itemsize\n",
        "    memory_required = 3 * n_samples * size_of_float / (1024**3)\n",
        "    # Calculating a relative error\n",
        "    rel_error = abs((my_pi - math.pi) / math.pi)\n",
        "\n",
        "    # Creates a row with the current data values\n",
        "    data_values = np.append(pi_numpy, [my_pi, memory_required, elapsed_time, n_samples, rel_error])\n",
        "    pi_numpy = np.append(pi_numpy, data_values)\n",
        "\n",
        "    # Printing the data values\n",
        "    print(\"Pi: {}, memory: {} GiB, time: {} s, Samples: {}, Relative Error: {}\".format(my_pi, memory_required,\n",
        "                                                      elapsed_time, n_samples, rel_error))\n",
        "   # Reshaping to a 2D array\n",
        "   pi_numpy = pi_numpy.reshape(-1,5)\n",
        "\n",
        "   # Save to a CSV file\n",
        "   np.savetxt(\"pi_estimation.csv\", pi_numpy, delimiter=',')\n",
        "\n",
        "if __name__ == '__main__':\n",
        "    main()"
      ],
      "metadata": {
        "colab": {
          "base_uri": "https://localhost:8080/"
        },
        "id": "vE6NsXjqawCC",
        "outputId": "51e1a7ea-aa06-4af4-fdeb-6ecb26fe9bfc"
      },
      "execution_count": 6,
      "outputs": [
        {
          "output_type": "stream",
          "name": "stdout",
          "text": [
            "Pi: 3.2, memory: 2.2351741790771484e-06 GiB, time: 0.000123 s, Samples: 100, Relative Error: 0.018591635788130244\n",
            "Pi: 3.064, memory: 2.2351741790771484e-05 GiB, time: 0.000335 s, Samples: 1000, Relative Error: 0.024698508732865325\n",
            "Pi: 3.1412, memory: 0.00022351741790771484 GiB, time: 0.000379 s, Samples: 10000, Relative Error: 0.00012498551947670607\n",
            "Pi: 3.14008, memory: 0.0022351741790771484 GiB, time: 0.004221 s, Samples: 100000, Relative Error: 0.0004814925920024841\n",
            "Pi: 3.139732, memory: 0.022351741790771484 GiB, time: 0.039301 s, Samples: 1000000, Relative Error: 0.0005922644323945187\n",
            "Pi: 3.1415904, memory: 0.22351741790771484 GiB, time: 0.412337 s, Samples: 10000000, Relative Error: 7.173399105147291e-07\n",
            "Pi: 3.14165628, memory: 2.2351741790771484 GiB, time: 3.983988 s, Samples: 100000000, Relative Error: 2.0252915391190828e-05\n"
          ]
        }
      ]
    },
    {
      "cell_type": "code",
      "source": [
        "import numpy as np\n",
        "import matplotlib.pyplot as plt\n",
        "import math\n",
        "\n",
        "# Load CSV data\n",
        "data = np.loadtxt(fname='pi_estimation.csv', delimiter=',')\n",
        "\n",
        "# Naming each Variable Name\n",
        "NVal = data[:, 3]\n",
        "ErrVal = data[:, 4]\n",
        "MemVal = data[:, 1]\n",
        "TimeVal = data[:, 2]\n",
        "\n",
        "logN = []\n",
        "for n in NVal:\n",
        "    logN.append(math.log(n, 10))"
      ],
      "metadata": {
        "id": "DVJ0gK5BnlGb"
      },
      "execution_count": 7,
      "outputs": []
    },
    {
      "cell_type": "markdown",
      "source": [
        "a. How much more accurate does the estimate of π become as N is increased? When N is increased by a factor of 10, does the error decrease by a factor of 10?\n",
        "\n",
        "As N is increased the relative error becomes more accurate by 1/sqr(N). So, when N is increased by a factor of 10, the relative error is decreased by sqr(10), which is not a factor of 10.  \n",
        "\n",
        "b. How does the amount of memory required scale as N is increased? Do you expect that it would be linear? How would the slope of the trendline in the log-log plot demonstrate that?\n",
        "\n",
        "The amount of memory required increases as N is increased, since the more samples the program has to run, the more memory required. Yes, I would expect it to run linearly since a constant increase of N will constantly increase memory required. My log-log plot shows that the slope of the trendline is 1 which shows a linear increase. Also, all the points are directly on the trendline.\n",
        "\n",
        "c. How does the amount of time to calculate scale as N is increased? Do you expect that it would be linear? How would the slope of the trendline in the log-log plot demonstrate that?\n",
        "\n",
        "The amount of time to calculate scale as N is increased is slightly linear. The graph shows a linear line however, it isn't as strong as the memory required vs. N. Yes, I would expect it to be linear since I would expect a constant increase in time with an increase of N. The slope of the trendline in the log-log plot is .57 so this demonstates the linear. Furthermore, the lines are relatively close to the treadline.\n"
      ],
      "metadata": {
        "id": "MCE_Q-WMlD1H"
      }
    },
    {
      "cell_type": "code",
      "source": [
        "# N vs Error\n",
        "logErr = []\n",
        "for err in ErrVal:\n",
        "    logErr.append(math.log(err, 10))\n",
        "\n",
        "plt.scatter(logN, logErr)\n",
        "plt.title(\"log(N) vs log(Error)\")\n",
        "plt.xlabel(\"log(N)\")\n",
        "plt.ylabel(\"log(Error)\")\n",
        "\n",
        "z = np.polyfit(logN, logErr, 1)\n",
        "p = np.poly1d(z)\n",
        "plt.plot(logN, p(logN))\n",
        "print(z[0],z[1])\n",
        "# z[0] is the slope of the trendline\n",
        "# z[1] is the y-intercept of the trendline"
      ],
      "metadata": {
        "colab": {
          "base_uri": "https://localhost:8080/",
          "height": 489
        },
        "id": "exarlseFpYBs",
        "outputId": "7cf2f0f3-342d-42ea-9470-f27004424889"
      },
      "execution_count": 3,
      "outputs": [
        {
          "output_type": "stream",
          "name": "stdout",
          "text": [
            "-0.6387451545756153 -0.1463549252530492\n"
          ]
        },
        {
          "output_type": "display_data",
          "data": {
            "text/plain": [
              "<Figure size 640x480 with 1 Axes>"
            ],
            "image/png": "[encoded data removed]"
          },
          "metadata": {}
        }
      ]
    },
    {
      "cell_type": "code",
      "source": [
        "# N vs Memory\n",
        "logMem = []\n",
        "for mem in MemVal:\n",
        "    logMem.append(math.log(mem, 10))\n",
        "\n",
        "\n",
        "plt.scatter(logN, logMem)\n",
        "plt.title(\"log(N) vs log(Memory [GiB])\")\n",
        "plt.xlabel(\"log(N)\")\n",
        "plt.ylabel(\"log(Memory [GiB])\")\n",
        "\n",
        "z = np.polyfit(logN, logMem, 1)\n",
        "p = np.poly1d(z)\n",
        "plt.plot(logN, p(logN))\n",
        "print(z[0], z[1])\n",
        "# z[0] is the slope of the trendline\n",
        "# z[1] is the y-intercept of the trendline"
      ],
      "metadata": {
        "colab": {
          "base_uri": "https://localhost:8080/",
          "height": 489
        },
        "id": "YWxI1O3ppdah",
        "outputId": "d17603bb-0854-4a77-9700-9f671424ec37"
      },
      "execution_count": 4,
      "outputs": [
        {
          "output_type": "stream",
          "name": "stdout",
          "text": [
            "1.0000000000000002 -7.65068862820783\n"
          ]
        },
        {
          "output_type": "display_data",
          "data": {
            "text/plain": [
              "<Figure size 640x480 with 1 Axes>"
            ],
            "image/png": "[encoded data removed]"
          },
          "metadata": {}
        }
      ]
    },
    {
      "cell_type": "code",
      "source": [
        "# N vs Compute Time\n",
        "logTime = []\n",
        "for t in TimeVal:\n",
        "    logTime.append(math.log(t, 10))\n",
        "\n",
        "\n",
        "plt.scatter(logN, logTime)\n",
        "plt.title(\"log(N) vs log(Compute Time [s])\")\n",
        "plt.xlabel(\"log(N)\")\n",
        "plt.ylabel(\"log(Compute Time [s])\")\n",
        "\n",
        "z = np.polyfit(logN, logTime, 1)\n",
        "p = np.poly1d(z)\n",
        "plt.plot(logN, p(logN))\n",
        "print(z[0],z[1])\n",
        "# z[0] is the slope of the trendline\n",
        "# z[1] is the y-intercept of the trendline"
      ],
      "metadata": {
        "colab": {
          "base_uri": "https://localhost:8080/",
          "height": 489
        },
        "id": "EjjzwIbJpmoO",
        "outputId": "d9724ec1-1b22-4cc0-a139-650a328889b5"
      },
      "execution_count": 8,
      "outputs": [
        {
          "output_type": "stream",
          "name": "stdout",
          "text": [
            "0.5681996820235027 -5.145522306326735\n"
          ]
        },
        {
          "output_type": "display_data",
          "data": {
            "text/plain": [
              "<Figure size 640x480 with 1 Axes>"
            ],
            "image/png": "[encoded data removed]"
          },
          "metadata": {}
        }
      ]
    },
    {
      "cell_type": "code",
      "source": [],
      "metadata": {
        "id": "eE-iwGj5prrt"
      },
      "execution_count": null,
      "outputs": []
    }
  ]
}