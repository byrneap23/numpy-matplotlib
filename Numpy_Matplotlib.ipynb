{
  "nbformat": 4,
  "nbformat_minor": 0,
  "metadata": {
    "colab": {
      "provenance": [],
      "authorship_tag": "ABX9TyOXTWtXN5aT1HZX/xz/J7YG",
      "include_colab_link": true
    },
    "kernelspec": {
      "name": "python3",
      "display_name": "Python 3"
    },
    "language_info": {
      "name": "python"
    }
  },
  "cells": [
    {
      "cell_type": "markdown",
      "metadata": {
        "id": "view-in-github",
        "colab_type": "text"
      },
      "source": [
        "<a href=\"https://colab.research.google.com/github/byrneap23/numpy-matplotlib/blob/main/Numpy_Matplotlib.ipynb\" target=\"_parent\"><img src=\"https://colab.research.google.com/assets/colab-badge.svg\" alt=\"Open In Colab\"/></a>"
      ]
    },
    {
      "cell_type": "code",
      "execution_count": null,
      "metadata": {
        "id": "lC2L9H1JSA9R"
      },
      "outputs": [],
      "source": [
        "import numpy as np\n",
        "import sys"
      ]
    },
    {
      "cell_type": "code",
      "source": [
        "def inside_circle(total_count):\n",
        "    x = np.random.uniform(size=total_count)\n",
        "    y = np.random.uniform(size=total_count)\n",
        "    radii = np.sqrt(x*x + y*y)\n",
        "    count = len(radii[np.where(radii<=1.0)])\n",
        "    return count"
      ],
      "metadata": {
        "id": "xOpUlNbwSHLd"
      },
      "execution_count": null,
      "outputs": []
    },
    {
      "cell_type": "code",
      "source": [
        "def main():\n",
        "    n_samples = int(10)\n",
        "    counts = inside_circle(n_samples)\n",
        "    my_pi = 4.0 * counts / n_samples\n",
        "    size_of_float = np.dtype(np.float64).itemsize\n",
        "    memory_required = 3 * n_samples * size_of_float / (1024**3)\n",
        "    print(\"Pi: {}, memory: {} GiB\".format(my_pi, memory_required))\n",
        "\n",
        "if __name__ == '__main__':\n",
        "    main()"
      ],
      "metadata": {
        "colab": {
          "base_uri": "https://localhost:8080/"
        },
        "id": "bRZMLn1kSJc3",
        "outputId": "b60d0041-d9f5-4edd-9be6-d9aade083e76"
      },
      "execution_count": null,
      "outputs": [
        {
          "output_type": "stream",
          "name": "stdout",
          "text": [
            "3.2\n"
          ]
        }
      ]
    },
    {
      "cell_type": "code",
      "source": [
        "import numpy as np\n",
        "import sys\n",
        "\n",
        "def inside_circle(total_count):\n",
        "    x = np.random.uniform(size=total_count)\n",
        "    y = np.random.uniform(size=total_count)\n",
        "    radii = np.sqrt(x*x + y*y)\n",
        "    count = len(radii[np.where(radii<=1.0)])\n",
        "    return count\n",
        "\n",
        "def main():\n",
        "    n_samples = int(10)\n",
        "    counts = inside_circle(n_samples)\n",
        "    my_pi = 4.0 * counts / n_samples\n",
        "    size_of_float = np.dtype(np.float64).itemsize\n",
        "    memory_required = 3 * n_samples * size_of_float / (1024**3)\n",
        "    print(\"Pi: {}, memory: {} GiB, time: {} s\".format(my_pi, memory_required,\n",
        "                                                  elapsed_time))\n",
        "\n",
        "if __name__ == '__main__':\n",
        "    main()"
      ],
      "metadata": {
        "colab": {
          "base_uri": "https://localhost:8080/"
        },
        "id": "QACuHnXWuflZ",
        "outputId": "bfac8388-3069-4909-c876-88994a607689"
      },
      "execution_count": null,
      "outputs": [
        {
          "output_type": "stream",
          "name": "stdout",
          "text": [
            "Pi: 4.0, memory: 2.2351741790771484e-07 GiB, time: 7.674448 s\n"
          ]
        }
      ]
    },
    {
      "cell_type": "code",
      "source": [
        "import numpy as np\n",
        "import sys\n",
        "import datetime\n",
        "\n",
        "def inside_circle(total_count):\n",
        "    x = np.random.uniform(size=total_count)\n",
        "    y = np.random.uniform(size=total_count)\n",
        "    radii = np.sqrt(x*x + y*y)\n",
        "    count = len(radii[np.where(radii<=1.0)])\n",
        "    return count\n",
        "\n",
        "def main():\n",
        "    n_samples = int(10)\n",
        "    start_time = datetime.datetime.now()\n",
        "    counts = inside_circle(n_samples)\n",
        "    my_pi = 4.0 * counts / n_samples\n",
        "    end_time = datetime.datetime.now()\n",
        "    elapsed_time = (end_time - start_time).total_seconds()\n",
        "    size_of_float = np.dtype(np.float64).itemsize\n",
        "    memory_required = 3 * n_samples * size_of_float / (1024**3)\n",
        "    print(\"Pi: {}, memory: {} GiB, time: {} s\".format(my_pi, memory_required,\n",
        "                                                      elapsed_time))\n",
        "\n",
        "if __name__ == '__main__':\n",
        "    main()\n"
      ],
      "metadata": {
        "colab": {
          "base_uri": "https://localhost:8080/"
        },
        "id": "x7_ojVdXuiOa",
        "outputId": "f4149eef-bea4-46ad-c38a-8938194f8d4c"
      },
      "execution_count": null,
      "outputs": [
        {
          "output_type": "stream",
          "name": "stdout",
          "text": [
            "Pi: 2.8, memory: 2.2351741790771484e-07 GiB, time: 0.000442 s\n"
          ]
        }
      ]
    },
    {
      "cell_type": "code",
      "source": [
        "import numpy as np\n",
        "import sys\n",
        "import datetime\n",
        "import math\n",
        "\n",
        "\n",
        "def inside_circle(total_count):\n",
        "    x = np.random.uniform(size=total_count)\n",
        "    y = np.random.uniform(size=total_count)\n",
        "    radii = np.sqrt(x*x + y*y)\n",
        "    count = len(radii[np.where(radii<=1.0)])\n",
        "    return count\n",
        "\n",
        "def main():\n",
        "    actual_pi = math.pi\n",
        "\n",
        "    with open(\"pi_estimates.csv\", \"w\") as outFile:\n",
        "\n",
        "      outFile.write(\"Samples, Estimated Pi, Relative Error, Memory (GiB), Time (s)\\n\")\n",
        "\n",
        "      for n_samples in [10**exp for exp in range(2, 8)]:\n",
        "        start_time = datetime.datetime.now()\n",
        "        counts = inside_circle(n_samples)\n",
        "        my_pi = 4.0 * counts / n_samples\n",
        "        relative_error = abs((my_pi - actual_pi) / actual_pi)\n",
        "        end_time = datetime.datetime.now()\n",
        "        elapsed_time = (end_time - start_time).total_seconds()\n",
        "        size_of_float = np.dtype(np.float64).itemsize\n",
        "        memory_required = 3 * n_samples * size_of_float / (1024**3)\n",
        "        print(\"Pi: {}, memory: {} GiB, time: {} s, Number of samples {}\".format(my_pi, memory_required,\n",
        "                                                      elapsed_time, n_samples))\n",
        "        outFile.write(f\"{n_samples}, {my_pi}, {relative_error}, {memory_required:.6f}, {elapsed_time:.6f}\\n\")\n",
        "\n",
        "if __name__ == '__main__':\n",
        "    main()\n",
        "\n"
      ],
      "metadata": {
        "colab": {
          "base_uri": "https://localhost:8080/"
        },
        "id": "Tm8ZpQNP6_cC",
        "outputId": "3e373eee-cfd8-4fdc-d279-3c70f0f0e36c"
      },
      "execution_count": 1,
      "outputs": [
        {
          "output_type": "stream",
          "name": "stdout",
          "text": [
            "Pi: 3.24, memory: 2.2351741790771484e-06 GiB, time: 0.032543 s, Number of samples 100\n",
            "Pi: 3.108, memory: 2.2351741790771484e-05 GiB, time: 0.000159 s, Number of samples 1000\n",
            "Pi: 3.148, memory: 0.00022351741790771484 GiB, time: 0.00054 s, Number of samples 10000\n",
            "Pi: 3.14212, memory: 0.0022351741790771484 GiB, time: 0.018633 s, Number of samples 100000\n",
            "Pi: 3.139016, memory: 0.022351741790771484 GiB, time: 0.120057 s, Number of samples 1000000\n",
            "Pi: 3.1413116, memory: 0.22351741790771484 GiB, time: 0.833705 s, Number of samples 10000000\n"
          ]
        }
      ]
    },
    {
      "cell_type": "code",
      "source": [
        "import pandas as pd\n",
        "\n",
        "df = pd.read_csv('pi_estimates.csv')\n",
        "\n",
        "# Extract data from the CSV\n",
        "samples = df['Samples']\n",
        "relative_error = df['Relative Error']\n",
        "memory = df['Memory (GiB)']\n",
        "time = df['Time (s)']\n",
        "\n",
        "plt.figure(figsize=(10, 6))\n",
        "plt.scatter(samples, relative_error, color='blue')\n",
        "plt.xscale('log')\n",
        "plt.yscale('log')\n",
        "plt.title('Log-Log Plot: Samples (N) vs Relative Error')\n",
        "plt.xlabel('Samples (N)')\n",
        "plt.ylabel('Relative Error')\n",
        "plt.grid(True)\n",
        "plt.show()"
      ],
      "metadata": {
        "colab": {
          "base_uri": "https://localhost:8080/",
          "height": 673
        },
        "id": "VtM-sVMYQd8e",
        "outputId": "d8fb67b8-aa09-4615-e93c-aaaa2149fee0"
      },
      "execution_count": 5,
      "outputs": [
        {
          "output_type": "error",
          "ename": "KeyError",
          "evalue": "'Relative Error'",
          "traceback": [
            "\u001b[0;31m---------------------------------------------------------------------------\u001b[0m",
            "\u001b[0;31mKeyError\u001b[0m                                  Traceback (most recent call last)",
            "\u001b[0;32m/usr/local/lib/python3.11/dist-packages/pandas/core/indexes/base.py\u001b[0m in \u001b[0;36mget_loc\u001b[0;34m(self, key)\u001b[0m\n\u001b[1;32m   3804\u001b[0m         \u001b[0;32mtry\u001b[0m\u001b[0;34m:\u001b[0m\u001b[0;34m\u001b[0m\u001b[0;34m\u001b[0m\u001b[0m\n\u001b[0;32m-> 3805\u001b[0;31m             \u001b[0;32mreturn\u001b[0m \u001b[0mself\u001b[0m\u001b[0;34m.\u001b[0m\u001b[0m_engine\u001b[0m\u001b[0;34m.\u001b[0m\u001b[0mget_loc\u001b[0m\u001b[0;34m(\u001b[0m\u001b[0mcasted_key\u001b[0m\u001b[0;34m)\u001b[0m\u001b[0;34m\u001b[0m\u001b[0;34m\u001b[0m\u001b[0m\n\u001b[0m\u001b[1;32m   3806\u001b[0m         \u001b[0;32mexcept\u001b[0m \u001b[0mKeyError\u001b[0m \u001b[0;32mas\u001b[0m \u001b[0merr\u001b[0m\u001b[0;34m:\u001b[0m\u001b[0;34m\u001b[0m\u001b[0;34m\u001b[0m\u001b[0m\n",
            "\u001b[0;32mindex.pyx\u001b[0m in \u001b[0;36mpandas._libs.index.IndexEngine.get_loc\u001b[0;34m()\u001b[0m\n",
            "\u001b[0;32mindex.pyx\u001b[0m in \u001b[0;36mpandas._libs.index.IndexEngine.get_loc\u001b[0;34m()\u001b[0m\n",
            "\u001b[0;32mpandas/_libs/hashtable_class_helper.pxi\u001b[0m in \u001b[0;36mpandas._libs.hashtable.PyObjectHashTable.get_item\u001b[0;34m()\u001b[0m\n",
            "\u001b[0;32mpandas/_libs/hashtable_class_helper.pxi\u001b[0m in \u001b[0;36mpandas._libs.hashtable.PyObjectHashTable.get_item\u001b[0;34m()\u001b[0m\n",
            "\u001b[0;31mKeyError\u001b[0m: 'Relative Error'",
            "\nThe above exception was the direct cause of the following exception:\n",
            "\u001b[0;31mKeyError\u001b[0m                                  Traceback (most recent call last)",
            "\u001b[0;32m<ipython-input-5-e3038f6e4a45>\u001b[0m in \u001b[0;36m<cell line: 0>\u001b[0;34m()\u001b[0m\n\u001b[1;32m      5\u001b[0m \u001b[0;31m# Extract data from the CSV\u001b[0m\u001b[0;34m\u001b[0m\u001b[0;34m\u001b[0m\u001b[0m\n\u001b[1;32m      6\u001b[0m \u001b[0msamples\u001b[0m \u001b[0;34m=\u001b[0m \u001b[0mdf\u001b[0m\u001b[0;34m[\u001b[0m\u001b[0;34m'Samples'\u001b[0m\u001b[0;34m]\u001b[0m\u001b[0;34m\u001b[0m\u001b[0;34m\u001b[0m\u001b[0m\n\u001b[0;32m----> 7\u001b[0;31m \u001b[0mrelative_error\u001b[0m \u001b[0;34m=\u001b[0m \u001b[0mdf\u001b[0m\u001b[0;34m[\u001b[0m\u001b[0;34m'Relative Error'\u001b[0m\u001b[0;34m]\u001b[0m\u001b[0;34m\u001b[0m\u001b[0;34m\u001b[0m\u001b[0m\n\u001b[0m\u001b[1;32m      8\u001b[0m \u001b[0mmemory\u001b[0m \u001b[0;34m=\u001b[0m \u001b[0mdf\u001b[0m\u001b[0;34m[\u001b[0m\u001b[0;34m'Memory (GiB)'\u001b[0m\u001b[0;34m]\u001b[0m\u001b[0;34m\u001b[0m\u001b[0;34m\u001b[0m\u001b[0m\n\u001b[1;32m      9\u001b[0m \u001b[0mtime\u001b[0m \u001b[0;34m=\u001b[0m \u001b[0mdf\u001b[0m\u001b[0;34m[\u001b[0m\u001b[0;34m'Time (s)'\u001b[0m\u001b[0;34m]\u001b[0m\u001b[0;34m\u001b[0m\u001b[0;34m\u001b[0m\u001b[0m\n",
            "\u001b[0;32m/usr/local/lib/python3.11/dist-packages/pandas/core/frame.py\u001b[0m in \u001b[0;36m__getitem__\u001b[0;34m(self, key)\u001b[0m\n\u001b[1;32m   4100\u001b[0m             \u001b[0;32mif\u001b[0m \u001b[0mself\u001b[0m\u001b[0;34m.\u001b[0m\u001b[0mcolumns\u001b[0m\u001b[0;34m.\u001b[0m\u001b[0mnlevels\u001b[0m \u001b[0;34m>\u001b[0m \u001b[0;36m1\u001b[0m\u001b[0;34m:\u001b[0m\u001b[0;34m\u001b[0m\u001b[0;34m\u001b[0m\u001b[0m\n\u001b[1;32m   4101\u001b[0m                 \u001b[0;32mreturn\u001b[0m \u001b[0mself\u001b[0m\u001b[0;34m.\u001b[0m\u001b[0m_getitem_multilevel\u001b[0m\u001b[0;34m(\u001b[0m\u001b[0mkey\u001b[0m\u001b[0;34m)\u001b[0m\u001b[0;34m\u001b[0m\u001b[0;34m\u001b[0m\u001b[0m\n\u001b[0;32m-> 4102\u001b[0;31m             \u001b[0mindexer\u001b[0m \u001b[0;34m=\u001b[0m \u001b[0mself\u001b[0m\u001b[0;34m.\u001b[0m\u001b[0mcolumns\u001b[0m\u001b[0;34m.\u001b[0m\u001b[0mget_loc\u001b[0m\u001b[0;34m(\u001b[0m\u001b[0mkey\u001b[0m\u001b[0;34m)\u001b[0m\u001b[0;34m\u001b[0m\u001b[0;34m\u001b[0m\u001b[0m\n\u001b[0m\u001b[1;32m   4103\u001b[0m             \u001b[0;32mif\u001b[0m \u001b[0mis_integer\u001b[0m\u001b[0;34m(\u001b[0m\u001b[0mindexer\u001b[0m\u001b[0;34m)\u001b[0m\u001b[0;34m:\u001b[0m\u001b[0;34m\u001b[0m\u001b[0;34m\u001b[0m\u001b[0m\n\u001b[1;32m   4104\u001b[0m                 \u001b[0mindexer\u001b[0m \u001b[0;34m=\u001b[0m \u001b[0;34m[\u001b[0m\u001b[0mindexer\u001b[0m\u001b[0;34m]\u001b[0m\u001b[0;34m\u001b[0m\u001b[0;34m\u001b[0m\u001b[0m\n",
            "\u001b[0;32m/usr/local/lib/python3.11/dist-packages/pandas/core/indexes/base.py\u001b[0m in \u001b[0;36mget_loc\u001b[0;34m(self, key)\u001b[0m\n\u001b[1;32m   3810\u001b[0m             ):\n\u001b[1;32m   3811\u001b[0m                 \u001b[0;32mraise\u001b[0m \u001b[0mInvalidIndexError\u001b[0m\u001b[0;34m(\u001b[0m\u001b[0mkey\u001b[0m\u001b[0;34m)\u001b[0m\u001b[0;34m\u001b[0m\u001b[0;34m\u001b[0m\u001b[0m\n\u001b[0;32m-> 3812\u001b[0;31m             \u001b[0;32mraise\u001b[0m \u001b[0mKeyError\u001b[0m\u001b[0;34m(\u001b[0m\u001b[0mkey\u001b[0m\u001b[0;34m)\u001b[0m \u001b[0;32mfrom\u001b[0m \u001b[0merr\u001b[0m\u001b[0;34m\u001b[0m\u001b[0;34m\u001b[0m\u001b[0m\n\u001b[0m\u001b[1;32m   3813\u001b[0m         \u001b[0;32mexcept\u001b[0m \u001b[0mTypeError\u001b[0m\u001b[0;34m:\u001b[0m\u001b[0;34m\u001b[0m\u001b[0;34m\u001b[0m\u001b[0m\n\u001b[1;32m   3814\u001b[0m             \u001b[0;31m# If we have a listlike key, _check_indexing_error will raise\u001b[0m\u001b[0;34m\u001b[0m\u001b[0;34m\u001b[0m\u001b[0m\n",
            "\u001b[0;31mKeyError\u001b[0m: 'Relative Error'"
          ]
        }
      ]
    },
    {
      "cell_type": "code",
      "source": [],
      "metadata": {
        "id": "1dOFGMbIR46H"
      },
      "execution_count": null,
      "outputs": []
    }
  ]
}