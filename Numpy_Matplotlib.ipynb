{
  "nbformat": 4,
  "nbformat_minor": 0,
  "metadata": {
    "colab": {
      "provenance": [],
      "authorship_tag": "ABX9TyOAQMQOK6SbSPTYQ1prx0Kq",
      "include_colab_link": true
    },
    "kernelspec": {
      "name": "python3",
      "display_name": "Python 3"
    },
    "language_info": {
      "name": "python"
    }
  },
  "cells": [
    {
      "cell_type": "markdown",
      "metadata": {
        "id": "view-in-github",
        "colab_type": "text"
      },
      "source": [
        "<a href=\"https://colab.research.google.com/github/byrneap23/numpy-matplotlib/blob/main/Numpy_Matplotlib.ipynb\" target=\"_parent\"><img src=\"https://colab.research.google.com/assets/colab-badge.svg\" alt=\"Open In Colab\"/></a>"
      ]
    },
    {
      "cell_type": "code",
      "execution_count": null,
      "metadata": {
        "id": "lC2L9H1JSA9R"
      },
      "outputs": [],
      "source": [
        "import numpy as np\n",
        "import sys"
      ]
    },
    {
      "cell_type": "code",
      "source": [
        "def inside_circle(total_count):\n",
        "    x = np.random.uniform(size=total_count)\n",
        "    y = np.random.uniform(size=total_count)\n",
        "    radii = np.sqrt(x*x + y*y)\n",
        "    count = len(radii[np.where(radii<=1.0)])\n",
        "    return count"
      ],
      "metadata": {
        "id": "xOpUlNbwSHLd"
      },
      "execution_count": null,
      "outputs": []
    },
    {
      "cell_type": "code",
      "source": [
        "def main():\n",
        "    n_samples = int(10)\n",
        "    counts = inside_circle(n_samples)\n",
        "    my_pi = 4.0 * counts / n_samples\n",
        "    size_of_float = np.dtype(np.float64).itemsize\n",
        "    memory_required = 3 * n_samples * size_of_float / (1024**3)\n",
        "    print(\"Pi: {}, memory: {} GiB\".format(my_pi, memory_required))\n",
        "\n",
        "if __name__ == '__main__':\n",
        "    main()"
      ],
      "metadata": {
        "colab": {
          "base_uri": "https://localhost:8080/"
        },
        "id": "bRZMLn1kSJc3",
        "outputId": "b60d0041-d9f5-4edd-9be6-d9aade083e76"
      },
      "execution_count": null,
      "outputs": [
        {
          "output_type": "stream",
          "name": "stdout",
          "text": [
            "3.2\n"
          ]
        }
      ]
    },
    {
      "cell_type": "code",
      "source": [
        "import numpy as np\n",
        "import sys\n",
        "\n",
        "def inside_circle(total_count):\n",
        "    x = np.random.uniform(size=total_count)\n",
        "    y = np.random.uniform(size=total_count)\n",
        "    radii = np.sqrt(x*x + y*y)\n",
        "    count = len(radii[np.where(radii<=1.0)])\n",
        "    return count\n",
        "\n",
        "def main():\n",
        "    n_samples = int(10)\n",
        "    counts = inside_circle(n_samples)\n",
        "    my_pi = 4.0 * counts / n_samples\n",
        "    size_of_float = np.dtype(np.float64).itemsize\n",
        "    memory_required = 3 * n_samples * size_of_float / (1024**3)\n",
        "    print(\"Pi: {}, memory: {} GiB, time: {} s\".format(my_pi, memory_required,\n",
        "                                                  elapsed_time))\n",
        "\n",
        "if __name__ == '__main__':\n",
        "    main()"
      ],
      "metadata": {
        "colab": {
          "base_uri": "https://localhost:8080/"
        },
        "id": "QACuHnXWuflZ",
        "outputId": "bfac8388-3069-4909-c876-88994a607689"
      },
      "execution_count": null,
      "outputs": [
        {
          "output_type": "stream",
          "name": "stdout",
          "text": [
            "Pi: 4.0, memory: 2.2351741790771484e-07 GiB, time: 7.674448 s\n"
          ]
        }
      ]
    },
    {
      "cell_type": "code",
      "source": [
        "import numpy as np\n",
        "import sys\n",
        "import datetime\n",
        "\n",
        "def inside_circle(total_count):\n",
        "    x = np.random.uniform(size=total_count)\n",
        "    y = np.random.uniform(size=total_count)\n",
        "    radii = np.sqrt(x*x + y*y)\n",
        "    count = len(radii[np.where(radii<=1.0)])\n",
        "    return count\n",
        "\n",
        "def main():\n",
        "    n_samples = int(10)\n",
        "    start_time = datetime.datetime.now()\n",
        "    counts = inside_circle(n_samples)\n",
        "    my_pi = 4.0 * counts / n_samples\n",
        "    end_time = datetime.datetime.now()\n",
        "    elapsed_time = (end_time - start_time).total_seconds()\n",
        "    size_of_float = np.dtype(np.float64).itemsize\n",
        "    memory_required = 3 * n_samples * size_of_float / (1024**3)\n",
        "    print(\"Pi: {}, memory: {} GiB, time: {} s\".format(my_pi, memory_required,\n",
        "                                                      elapsed_time))\n",
        "\n",
        "if __name__ == '__main__':\n",
        "    main()\n"
      ],
      "metadata": {
        "colab": {
          "base_uri": "https://localhost:8080/"
        },
        "id": "x7_ojVdXuiOa",
        "outputId": "f4149eef-bea4-46ad-c38a-8938194f8d4c"
      },
      "execution_count": null,
      "outputs": [
        {
          "output_type": "stream",
          "name": "stdout",
          "text": [
            "Pi: 2.8, memory: 2.2351741790771484e-07 GiB, time: 0.000442 s\n"
          ]
        }
      ]
    },
    {
      "cell_type": "code",
      "source": [
        "import numpy as np\n",
        "import sys\n",
        "import datetime\n",
        "import math\n",
        "\n",
        "def inside_circle(total_count):\n",
        "    x = np.random.uniform(size=total_count)\n",
        "    y = np.random.uniform(size=total_count)\n",
        "    radii = np.sqrt(x*x + y*y)\n",
        "    count = len(radii[np.where(radii<=1.0)])\n",
        "    return count\n",
        "\n",
        "def main():\n",
        "   # Looped over the number of samples from 10^2 to 10^9.\n",
        "   for n_samples in [10**exp for exp in range(2, 9)]:\n",
        "    start_time = datetime.datetime.now()\n",
        "    counts = inside_circle(n_samples)\n",
        "    my_pi = 4.0 * counts / n_samples\n",
        "    end_time = datetime.datetime.now()\n",
        "    elapsed_time = (end_time - start_time).total_seconds()\n",
        "    size_of_float = np.dtype(np.float64).itemsize\n",
        "    memory_required = 3 * n_samples * size_of_float / (1024**3)\n",
        "    # Calculating a relative error\n",
        "    rel_error = abs((my_pi - math.pi) / math.pi)\n",
        "    print(\"Pi: {}, memory: {} GiB, time: {} s, Samples: {}, Relative Error: {}\".format(my_pi, memory_required,\n",
        "                                                      elapsed_time, n_samples, rel_error))\n",
        "\n",
        "if __name__ == '__main__':\n",
        "    main()"
      ],
      "metadata": {
        "id": "1dOFGMbIR46H",
        "colab": {
          "base_uri": "https://localhost:8080/"
        },
        "outputId": "f6208ab6-5a69-4913-a8c1-32116910ebf7"
      },
      "execution_count": null,
      "outputs": [
        {
          "output_type": "stream",
          "name": "stdout",
          "text": [
            "Pi: 3.04, memory: 2.2351741790771484e-06 GiB, time: 0.000284 s, Samples: 100, Relative Error: 0.03233794600127631\n",
            "Pi: 3.172, memory: 2.2351741790771484e-05 GiB, time: 0.000762 s, Samples: 1000, Relative Error: 0.009678958974984098\n",
            "Pi: 3.138, memory: 0.00022351741790771484 GiB, time: 0.000577 s, Samples: 10000, Relative Error: 0.0011435771552648654\n",
            "Pi: 3.1356, memory: 0.0022351741790771484 GiB, time: 0.004412 s, Samples: 100000, Relative Error: 0.001907520882105879\n",
            "Pi: 3.14218, memory: 0.022351741790771484 GiB, time: 0.040486 s, Samples: 1000000, Relative Error: 0.00018695816898347338\n",
            "Pi: 3.1426644, memory: 0.22351741790771484 GiB, time: 0.41262 s, Samples: 10000000, Relative Error: 0.00034114747785088265\n",
            "Pi: 3.14145908, memory: 2.2351741790771484 GiB, time: 4.003028 s, Samples: 100000000, Relative Error: 4.251779416414937e-05\n"
          ]
        }
      ]
    },
    {
      "cell_type": "code",
      "source": [
        "import numpy as np\n",
        "import sys\n",
        "import datetime\n",
        "import math\n",
        "\n",
        "def inside_circle(total_count):\n",
        "    x = np.random.uniform(size=total_count)\n",
        "    y = np.random.uniform(size=total_count)\n",
        "    radii = np.sqrt(x*x + y*y)\n",
        "    count = len(radii[np.where(radii<=1.0)])\n",
        "    return count\n",
        "\n",
        "def main():\n",
        "   pi_numpy = np.array( [] )\n",
        "   # Looped over the number of samples from 10^2 to 10^9.\n",
        "   for n_samples in [10**exp for exp in range(2, 9)]:\n",
        "    start_time = datetime.datetime.now()\n",
        "    counts = inside_circle(n_samples)\n",
        "    my_pi = 4.0 * counts / n_samples\n",
        "    end_time = datetime.datetime.now()\n",
        "    elapsed_time = (end_time - start_time).total_seconds()\n",
        "    size_of_float = np.dtype(np.float64).itemsize\n",
        "    memory_required = 3 * n_samples * size_of_float / (1024**3)\n",
        "    # Calculating a relative error\n",
        "    rel_error = abs((my_pi - math.pi) / math.pi)\n",
        "\n",
        "    # Creates a row with the current data values\n",
        "    data_values = np.append(pi_numpy, [my_pi, memory_required, elapsed_time, n_samples, rel_error])\n",
        "    pi_numpy = np.append(pi_numpy, data_values)\n",
        "\n",
        "    # Printing the data values\n",
        "    print(\"Pi: {}, memory: {} GiB, time: {} s, Samples: {}, Relative Error: {}\".format(my_pi, memory_required,\n",
        "                                                      elapsed_time, n_samples, rel_error))\n",
        "   # Reshaping to a 2D array\n",
        "   pi_numpy = pi_numpy.reshape(-1,5)\n",
        "\n",
        "   # Save to a CSV file\n",
        "   np.savetxt(\"pi_estimation.csv\", pi_numpy, delimiter=',')\n",
        "\n",
        "if __name__ == '__main__':\n",
        "    main()"
      ],
      "metadata": {
        "colab": {
          "base_uri": "https://localhost:8080/"
        },
        "id": "vE6NsXjqawCC",
        "outputId": "24df5a99-6c6d-41b3-e643-aa9c3668b374"
      },
      "execution_count": 2,
      "outputs": [
        {
          "output_type": "stream",
          "name": "stdout",
          "text": [
            "Pi: 3.08, memory: 2.2351741790771484e-06 GiB, time: 0.044502 s, Samples: 100, Relative Error: 0.01960555055392467\n",
            "Pi: 3.212, memory: 2.2351741790771484e-05 GiB, time: 0.000143 s, Samples: 1000, Relative Error: 0.022411354422335737\n",
            "Pi: 3.1316, memory: 0.00022351741790771484 GiB, time: 0.000564 s, Samples: 10000, Relative Error: 0.003180760426841043\n",
            "Pi: 3.14856, memory: 0.0022351741790771484 GiB, time: 0.042617 s, Samples: 100000, Relative Error: 0.002217775242835933\n",
            "Pi: 3.142708, memory: 0.022351741790771484 GiB, time: 0.399899 s, Samples: 1000000, Relative Error: 0.0003550257888884002\n",
            "Pi: 3.1401532, memory: 0.22351741790771484 GiB, time: 2.909281 s, Samples: 10000000, Relative Error: 0.0004581923083339381\n",
            "Pi: 3.14169504, memory: 2.2351741790771484 GiB, time: 6.837871 s, Samples: 100000000, Relative Error: 3.259060657975369e-05\n"
          ]
        }
      ]
    },
    {
      "cell_type": "code",
      "source": [
        "import numpy as np\n",
        "import matplotlib.pyplot as plt\n",
        "import math\n",
        "\n",
        "# Load CSV data\n",
        "data = np.loadtxt(fname='pi_estimation.csv', delimiter=',')\n",
        "\n",
        "# Naming each Variable Name\n",
        "NVal = data[:, 3]\n",
        "ErrVal = data[:, 4]\n",
        "MemVal = data[:, 1]\n",
        "TimeVal = data[:, 2]\n",
        "\n",
        "logN = []\n",
        "for n in NVal:\n",
        "    logN.append(math.log(n, 10))"
      ],
      "metadata": {
        "id": "DVJ0gK5BnlGb"
      },
      "execution_count": 3,
      "outputs": []
    },
    {
      "cell_type": "markdown",
      "source": [
        "a. How much more accurate does the estimate of π become as N is increased? When N is increased by a factor of 10, does the error decrease by a factor of 10?\n",
        "\n",
        "The accuracy of π becomes as N is increased by\n",
        "\n",
        "b. How does the amount of memory required scale as N is increased? Do you expect that it would be linear? How would the slope of the trendline in the log-log plot demonstrate that?\n",
        "\n",
        "\n",
        "\n",
        "c. How does the amount of time to calculate scale as N is increased? Do you expect that it would be linear? How would the slope of the trendline in the log-log plot demonstrate that?\n",
        "\n",
        "\n"
      ],
      "metadata": {
        "id": "MCE_Q-WMlD1H"
      }
    },
    {
      "cell_type": "code",
      "source": [
        "# N vs Error\n",
        "logErr = []\n",
        "for err in ErrVal:\n",
        "    logErr.append(math.log(err, 10))\n",
        "\n",
        "plt.scatter(logN, logErr)\n",
        "plt.title(\"log(N) vs log(Error)\")\n",
        "plt.xlabel(\"log(N)\")\n",
        "plt.ylabel(\"log(Error)\")\n",
        "\n",
        "z = np.polyfit(logN, logErr, 1)\n",
        "p = np.poly1d(z)\n",
        "plt.plot(logN, p(logN))\n",
        "print(z[0],z[1])\n",
        "# z[0] is the slope of the trendline\n",
        "# z[1] is the y-intercept of the trendline"
      ],
      "metadata": {
        "colab": {
          "base_uri": "https://localhost:8080/",
          "height": 489
        },
        "id": "exarlseFpYBs",
        "outputId": "d9180404-211c-4742-8f64-8c4fde612da2"
      },
      "execution_count": 6,
      "outputs": [
        {
          "output_type": "stream",
          "name": "stdout",
          "text": [
            "-0.3780872802692915 -0.8411342984502054\n"
          ]
        },
        {
          "output_type": "display_data",
          "data": {
            "text/plain": [
              "<Figure size 640x480 with 1 Axes>"
            ],
            "image/png": "[encoded data removed]"
          },
          "metadata": {}
        }
      ]
    },
    {
      "cell_type": "code",
      "source": [
        "# N vs Memory\n",
        "logMem = []\n",
        "for mem in MemVal:\n",
        "    logMem.append(math.log(mem, 10))\n",
        "\n",
        "\n",
        "plt.scatter(logN, logMem)\n",
        "plt.title(\"log(N) vs log(Memory [GiB])\")\n",
        "plt.xlabel(\"log(N)\")\n",
        "plt.ylabel(\"log(Memory [GiB])\")\n",
        "\n",
        "z = np.polyfit(logN, logMem, 1)\n",
        "p = np.poly1d(z)\n",
        "plt.plot(logN, p(logN))\n",
        "print(z[0], z[1])\n",
        "# z[0] is the slope of the trendline\n",
        "# z[1] is the y-intercept of the trendline"
      ],
      "metadata": {
        "colab": {
          "base_uri": "https://localhost:8080/",
          "height": 489
        },
        "id": "YWxI1O3ppdah",
        "outputId": "a8f4a856-8cff-41ac-a0f7-0cc6903cc895"
      },
      "execution_count": 7,
      "outputs": [
        {
          "output_type": "stream",
          "name": "stdout",
          "text": [
            "1.0000000000000002 -7.65068862820783\n"
          ]
        },
        {
          "output_type": "display_data",
          "data": {
            "text/plain": [
              "<Figure size 640x480 with 1 Axes>"
            ],
            "image/png": "[encoded data removed]"
          },
          "metadata": {}
        }
      ]
    },
    {
      "cell_type": "code",
      "source": [
        "# N vs Compute Time\n",
        "logTime = []\n",
        "for t in TimeVal:\n",
        "    logTime.append(math.log(t, 10))\n",
        "\n",
        "\n",
        "plt.scatter(logN, logTime)\n",
        "plt.title(\"log(N) vs log(Compute Time [s])\")\n",
        "plt.xlabel(\"log(N)\")\n",
        "plt.ylabel(\"log(Compute Time [s])\")\n",
        "\n",
        "z = np.polyfit(logN, logTime, 1)\n",
        "p = np.poly1d(z)\n",
        "plt.plot(logN, p(logN))\n",
        "print(z[0],z[1])\n",
        "# z[0] is the slope of the trendline\n",
        "# z[1] is the y-intercept of the trendline"
      ],
      "metadata": {
        "colab": {
          "base_uri": "https://localhost:8080/",
          "height": 489
        },
        "id": "EjjzwIbJpmoO",
        "outputId": "d5281e77-b192-48b1-f2d3-da4010b6fb94"
      },
      "execution_count": 9,
      "outputs": [
        {
          "output_type": "stream",
          "name": "stdout",
          "text": [
            "0.0034055753893694127 -2.1541670861278828\n"
          ]
        },
        {
          "output_type": "display_data",
          "data": {
            "text/plain": [
              "<Figure size 640x480 with 1 Axes>"
            ],
            "image/png": "[encoded data removed]"
          },
          "metadata": {}
        }
      ]
    },
    {
      "cell_type": "code",
      "source": [],
      "metadata": {
        "id": "eE-iwGj5prrt"
      },
      "execution_count": null,
      "outputs": []
    }
  ]
}