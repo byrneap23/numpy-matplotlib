{
  "nbformat": 4,
  "nbformat_minor": 0,
  "metadata": {
    "colab": {
      "provenance": [],
      "authorship_tag": "ABX9TyM0u3k8E35XU2YwLjAcW3IF",
      "include_colab_link": true
    },
    "kernelspec": {
      "name": "python3",
      "display_name": "Python 3"
    },
    "language_info": {
      "name": "python"
    }
  },
  "cells": [
    {
      "cell_type": "markdown",
      "metadata": {
        "id": "view-in-github",
        "colab_type": "text"
      },
      "source": [
        "<a href=\"https://colab.research.google.com/github/byrneap23/numpy-matplotlib/blob/main/Numpy_Matplotlib.ipynb\" target=\"_parent\"><img src=\"https://colab.research.google.com/assets/colab-badge.svg\" alt=\"Open In Colab\"/></a>"
      ]
    },
    {
      "cell_type": "code",
      "execution_count": null,
      "metadata": {
        "id": "lC2L9H1JSA9R"
      },
      "outputs": [],
      "source": [
        "import numpy as np\n",
        "import sys"
      ]
    },
    {
      "cell_type": "code",
      "source": [
        "def inside_circle(total_count):\n",
        "    x = np.random.uniform(size=total_count)\n",
        "    y = np.random.uniform(size=total_count)\n",
        "    radii = np.sqrt(x*x + y*y)\n",
        "    count = len(radii[np.where(radii<=1.0)])\n",
        "    return count"
      ],
      "metadata": {
        "id": "xOpUlNbwSHLd"
      },
      "execution_count": null,
      "outputs": []
    },
    {
      "cell_type": "code",
      "source": [
        "def main():\n",
        "    n_samples = int(10)\n",
        "    counts = inside_circle(n_samples)\n",
        "    my_pi = 4.0 * counts / n_samples\n",
        "    size_of_float = np.dtype(np.float64).itemsize\n",
        "    memory_required = 3 * n_samples * size_of_float / (1024**3)\n",
        "    print(\"Pi: {}, memory: {} GiB\".format(my_pi, memory_required))\n",
        "\n",
        "if __name__ == '__main__':\n",
        "    main()"
      ],
      "metadata": {
        "colab": {
          "base_uri": "https://localhost:8080/"
        },
        "id": "bRZMLn1kSJc3",
        "outputId": "b60d0041-d9f5-4edd-9be6-d9aade083e76"
      },
      "execution_count": null,
      "outputs": [
        {
          "output_type": "stream",
          "name": "stdout",
          "text": [
            "3.2\n"
          ]
        }
      ]
    },
    {
      "cell_type": "code",
      "source": [
        "import numpy as np\n",
        "import sys\n",
        "\n",
        "def inside_circle(total_count):\n",
        "    x = np.random.uniform(size=total_count)\n",
        "    y = np.random.uniform(size=total_count)\n",
        "    radii = np.sqrt(x*x + y*y)\n",
        "    count = len(radii[np.where(radii<=1.0)])\n",
        "    return count\n",
        "\n",
        "def main():\n",
        "    n_samples = int(10)\n",
        "    counts = inside_circle(n_samples)\n",
        "    my_pi = 4.0 * counts / n_samples\n",
        "    size_of_float = np.dtype(np.float64).itemsize\n",
        "    memory_required = 3 * n_samples * size_of_float / (1024**3)\n",
        "    print(\"Pi: {}, memory: {} GiB, time: {} s\".format(my_pi, memory_required,\n",
        "                                                  elapsed_time))\n",
        "\n",
        "if __name__ == '__main__':\n",
        "    main()"
      ],
      "metadata": {
        "colab": {
          "base_uri": "https://localhost:8080/"
        },
        "id": "QACuHnXWuflZ",
        "outputId": "bfac8388-3069-4909-c876-88994a607689"
      },
      "execution_count": null,
      "outputs": [
        {
          "output_type": "stream",
          "name": "stdout",
          "text": [
            "Pi: 4.0, memory: 2.2351741790771484e-07 GiB, time: 7.674448 s\n"
          ]
        }
      ]
    },
    {
      "cell_type": "code",
      "source": [
        "import numpy as np\n",
        "import sys\n",
        "import datetime\n",
        "\n",
        "def inside_circle(total_count):\n",
        "    x = np.random.uniform(size=total_count)\n",
        "    y = np.random.uniform(size=total_count)\n",
        "    radii = np.sqrt(x*x + y*y)\n",
        "    count = len(radii[np.where(radii<=1.0)])\n",
        "    return count\n",
        "\n",
        "def main():\n",
        "    n_samples = int(10)\n",
        "    start_time = datetime.datetime.now()\n",
        "    counts = inside_circle(n_samples)\n",
        "    my_pi = 4.0 * counts / n_samples\n",
        "    end_time = datetime.datetime.now()\n",
        "    elapsed_time = (end_time - start_time).total_seconds()\n",
        "    size_of_float = np.dtype(np.float64).itemsize\n",
        "    memory_required = 3 * n_samples * size_of_float / (1024**3)\n",
        "    print(\"Pi: {}, memory: {} GiB, time: {} s\".format(my_pi, memory_required,\n",
        "                                                      elapsed_time))\n",
        "\n",
        "if __name__ == '__main__':\n",
        "    main()\n"
      ],
      "metadata": {
        "colab": {
          "base_uri": "https://localhost:8080/"
        },
        "id": "x7_ojVdXuiOa",
        "outputId": "f4149eef-bea4-46ad-c38a-8938194f8d4c"
      },
      "execution_count": null,
      "outputs": [
        {
          "output_type": "stream",
          "name": "stdout",
          "text": [
            "Pi: 2.8, memory: 2.2351741790771484e-07 GiB, time: 0.000442 s\n"
          ]
        }
      ]
    },
    {
      "cell_type": "code",
      "source": [
        "import numpy as np\n",
        "import sys\n",
        "import datetime\n",
        "import math\n",
        "\n",
        "def inside_circle(total_count):\n",
        "    x = np.random.uniform(size=total_count)\n",
        "    y = np.random.uniform(size=total_count)\n",
        "    radii = np.sqrt(x*x + y*y)\n",
        "    count = len(radii[np.where(radii<=1.0)])\n",
        "    return count\n",
        "\n",
        "def main():\n",
        "   # Looped over the number of samples from 10^2 to 10^9.\n",
        "   for n_samples in [10**exp for exp in range(2, 9)]:\n",
        "    start_time = datetime.datetime.now()\n",
        "    counts = inside_circle(n_samples)\n",
        "    my_pi = 4.0 * counts / n_samples\n",
        "    end_time = datetime.datetime.now()\n",
        "    elapsed_time = (end_time - start_time).total_seconds()\n",
        "    size_of_float = np.dtype(np.float64).itemsize\n",
        "    memory_required = 3 * n_samples * size_of_float / (1024**3)\n",
        "    # Calculating a relative error\n",
        "    rel_error = abs((my_pi - math.pi) / math.pi)\n",
        "    print(\"Pi: {}, memory: {} GiB, time: {} s, Samples: {}, Relative Error: {}\".format(my_pi, memory_required,\n",
        "                                                      elapsed_time, n_samples, rel_error))\n",
        "\n",
        "if __name__ == '__main__':\n",
        "    main()"
      ],
      "metadata": {
        "id": "1dOFGMbIR46H",
        "colab": {
          "base_uri": "https://localhost:8080/"
        },
        "outputId": "f6208ab6-5a69-4913-a8c1-32116910ebf7"
      },
      "execution_count": 14,
      "outputs": [
        {
          "output_type": "stream",
          "name": "stdout",
          "text": [
            "Pi: 3.04, memory: 2.2351741790771484e-06 GiB, time: 0.000284 s, Samples: 100, Relative Error: 0.03233794600127631\n",
            "Pi: 3.172, memory: 2.2351741790771484e-05 GiB, time: 0.000762 s, Samples: 1000, Relative Error: 0.009678958974984098\n",
            "Pi: 3.138, memory: 0.00022351741790771484 GiB, time: 0.000577 s, Samples: 10000, Relative Error: 0.0011435771552648654\n",
            "Pi: 3.1356, memory: 0.0022351741790771484 GiB, time: 0.004412 s, Samples: 100000, Relative Error: 0.001907520882105879\n",
            "Pi: 3.14218, memory: 0.022351741790771484 GiB, time: 0.040486 s, Samples: 1000000, Relative Error: 0.00018695816898347338\n",
            "Pi: 3.1426644, memory: 0.22351741790771484 GiB, time: 0.41262 s, Samples: 10000000, Relative Error: 0.00034114747785088265\n",
            "Pi: 3.14145908, memory: 2.2351741790771484 GiB, time: 4.003028 s, Samples: 100000000, Relative Error: 4.251779416414937e-05\n"
          ]
        }
      ]
    },
    {
      "cell_type": "code",
      "source": [
        "import numpy as np\n",
        "import sys\n",
        "import datetime\n",
        "import math\n",
        "\n",
        "def inside_circle(total_count):\n",
        "    x = np.random.uniform(size=total_count)\n",
        "    y = np.random.uniform(size=total_count)\n",
        "    radii = np.sqrt(x*x + y*y)\n",
        "    count = len(radii[np.where(radii<=1.0)])\n",
        "    return count\n",
        "\n",
        "def main():\n",
        "   pi_numpy = np.array( [] )\n",
        "   # Looped over the number of samples from 10^2 to 10^9.\n",
        "   for n_samples in [10**exp for exp in range(2, 9)]:\n",
        "    start_time = datetime.datetime.now()\n",
        "    counts = inside_circle(n_samples)\n",
        "    my_pi = 4.0 * counts / n_samples\n",
        "    end_time = datetime.datetime.now()\n",
        "    elapsed_time = (end_time - start_time).total_seconds()\n",
        "    size_of_float = np.dtype(np.float64).itemsize\n",
        "    memory_required = 3 * n_samples * size_of_float / (1024**3)\n",
        "    # Calculating a relative error\n",
        "    rel_error = abs((my_pi - math.pi) / math.pi)\n",
        "\n",
        "    rows = np.append(pi_numpy, [my_pi, memory_required, elapsed_time, n_samples, rel_error])\n",
        "    pi_numpy = np.append(pi_numpy, rows)\n",
        "\n",
        "    print(\"Pi: {}, memory: {} GiB, time: {} s, Samples: {}, Relative Error: {}\".format(my_pi, memory_required,\n",
        "                                                      elapsed_time, n_samples, rel_error))\n",
        "   pi_numpy = pi_numpy.reshape(-1,5)\n",
        "\n",
        "   np.savetxt(\"pi_estimation.csv\", pi_numpy, delimiter=',')\n",
        "\n",
        "if __name__ == '__main__':\n",
        "    main()"
      ],
      "metadata": {
        "colab": {
          "base_uri": "https://localhost:8080/"
        },
        "id": "vE6NsXjqawCC",
        "outputId": "6843b351-403c-49e5-da6f-6857248f0961"
      },
      "execution_count": 24,
      "outputs": [
        {
          "output_type": "stream",
          "name": "stdout",
          "text": [
            "Pi: 3.24, memory: 2.2351741790771484e-06 GiB, time: 0.000565 s, Samples: 100, Relative Error: 0.031324031235481886\n",
            "Pi: 3.124, memory: 2.2351741790771484e-05 GiB, time: 0.000177 s, Samples: 1000, Relative Error: 0.005599915561837868\n",
            "Pi: 3.1388, memory: 0.00022351741790771484 GiB, time: 0.000883 s, Samples: 10000, Relative Error: 0.000888929246317861\n",
            "Pi: 3.13384, memory: 0.0022351741790771484 GiB, time: 0.006399 s, Samples: 100000, Relative Error: 0.0024677462817893456\n",
            "Pi: 3.140996, memory: 0.022351741790771484 GiB, time: 0.074517 s, Samples: 1000000, Relative Error: 0.00018992073625822897\n",
            "Pi: 3.1415396, memory: 0.22351741790771484 GiB, time: 0.645642 s, Samples: 10000000, Relative Error: 1.6887482128621527e-05\n",
            "Pi: 3.14153464, memory: 2.2351741790771484 GiB, time: 4.090345 s, Samples: 100000000, Relative Error: 1.8466299164110255e-05\n"
          ]
        }
      ]
    },
    {
      "cell_type": "code",
      "source": [
        "data = np.loadtxt(fname ='pi_estimation.csv', delimiter=',')\n",
        "NVal = data[:, 0]\n",
        "ErrVal = data[:, 4]  # The relative error\n",
        "MemVal = data[:, 2]  # Memory usage in GiB\n",
        "TimeVal = data[:, 1]"
      ],
      "metadata": {
        "id": "ey68ahMSfGNd"
      },
      "execution_count": 36,
      "outputs": []
    },
    {
      "cell_type": "code",
      "source": [
        "print(data)"
      ],
      "metadata": {
        "colab": {
          "base_uri": "https://localhost:8080/"
        },
        "id": "TCCcFnrbj9du",
        "outputId": "ef8f5cf4-4741-4521-e4eb-3b7b861444ee"
      },
      "execution_count": 37,
      "outputs": [
        {
          "output_type": "stream",
          "name": "stdout",
          "text": [
            "[[3.24000000e+00 2.23517418e-06 5.65000000e-04 1.00000000e+02\n",
            "  3.13240312e-02]\n",
            " [3.24000000e+00 2.23517418e-06 5.65000000e-04 1.00000000e+02\n",
            "  3.13240312e-02]\n",
            " [3.12400000e+00 2.23517418e-05 1.77000000e-04 1.00000000e+03\n",
            "  5.59991556e-03]\n",
            " [3.24000000e+00 2.23517418e-06 5.65000000e-04 1.00000000e+02\n",
            "  3.13240312e-02]\n",
            " [3.24000000e+00 2.23517418e-06 5.65000000e-04 1.00000000e+02\n",
            "  3.13240312e-02]\n",
            " [3.12400000e+00 2.23517418e-05 1.77000000e-04 1.00000000e+03\n",
            "  5.59991556e-03]\n",
            " [3.13880000e+00 2.23517418e-04 8.83000000e-04 1.00000000e+04\n",
            "  8.88929246e-04]\n",
            " [3.24000000e+00 2.23517418e-06 5.65000000e-04 1.00000000e+02\n",
            "  3.13240312e-02]\n",
            " [3.24000000e+00 2.23517418e-06 5.65000000e-04 1.00000000e+02\n",
            "  3.13240312e-02]\n",
            " [3.12400000e+00 2.23517418e-05 1.77000000e-04 1.00000000e+03\n",
            "  5.59991556e-03]\n",
            " [3.24000000e+00 2.23517418e-06 5.65000000e-04 1.00000000e+02\n",
            "  3.13240312e-02]\n",
            " [3.24000000e+00 2.23517418e-06 5.65000000e-04 1.00000000e+02\n",
            "  3.13240312e-02]\n",
            " [3.12400000e+00 2.23517418e-05 1.77000000e-04 1.00000000e+03\n",
            "  5.59991556e-03]\n",
            " [3.13880000e+00 2.23517418e-04 8.83000000e-04 1.00000000e+04\n",
            "  8.88929246e-04]\n",
            " [3.13384000e+00 2.23517418e-03 6.39900000e-03 1.00000000e+05\n",
            "  2.46774628e-03]\n",
            " [3.24000000e+00 2.23517418e-06 5.65000000e-04 1.00000000e+02\n",
            "  3.13240312e-02]\n",
            " [3.24000000e+00 2.23517418e-06 5.65000000e-04 1.00000000e+02\n",
            "  3.13240312e-02]\n",
            " [3.12400000e+00 2.23517418e-05 1.77000000e-04 1.00000000e+03\n",
            "  5.59991556e-03]\n",
            " [3.24000000e+00 2.23517418e-06 5.65000000e-04 1.00000000e+02\n",
            "  3.13240312e-02]\n",
            " [3.24000000e+00 2.23517418e-06 5.65000000e-04 1.00000000e+02\n",
            "  3.13240312e-02]\n",
            " [3.12400000e+00 2.23517418e-05 1.77000000e-04 1.00000000e+03\n",
            "  5.59991556e-03]\n",
            " [3.13880000e+00 2.23517418e-04 8.83000000e-04 1.00000000e+04\n",
            "  8.88929246e-04]\n",
            " [3.24000000e+00 2.23517418e-06 5.65000000e-04 1.00000000e+02\n",
            "  3.13240312e-02]\n",
            " [3.24000000e+00 2.23517418e-06 5.65000000e-04 1.00000000e+02\n",
            "  3.13240312e-02]\n",
            " [3.12400000e+00 2.23517418e-05 1.77000000e-04 1.00000000e+03\n",
            "  5.59991556e-03]\n",
            " [3.24000000e+00 2.23517418e-06 5.65000000e-04 1.00000000e+02\n",
            "  3.13240312e-02]\n",
            " [3.24000000e+00 2.23517418e-06 5.65000000e-04 1.00000000e+02\n",
            "  3.13240312e-02]\n",
            " [3.12400000e+00 2.23517418e-05 1.77000000e-04 1.00000000e+03\n",
            "  5.59991556e-03]\n",
            " [3.13880000e+00 2.23517418e-04 8.83000000e-04 1.00000000e+04\n",
            "  8.88929246e-04]\n",
            " [3.13384000e+00 2.23517418e-03 6.39900000e-03 1.00000000e+05\n",
            "  2.46774628e-03]\n",
            " [3.14099600e+00 2.23517418e-02 7.45170000e-02 1.00000000e+06\n",
            "  1.89920736e-04]\n",
            " [3.24000000e+00 2.23517418e-06 5.65000000e-04 1.00000000e+02\n",
            "  3.13240312e-02]\n",
            " [3.24000000e+00 2.23517418e-06 5.65000000e-04 1.00000000e+02\n",
            "  3.13240312e-02]\n",
            " [3.12400000e+00 2.23517418e-05 1.77000000e-04 1.00000000e+03\n",
            "  5.59991556e-03]\n",
            " [3.24000000e+00 2.23517418e-06 5.65000000e-04 1.00000000e+02\n",
            "  3.13240312e-02]\n",
            " [3.24000000e+00 2.23517418e-06 5.65000000e-04 1.00000000e+02\n",
            "  3.13240312e-02]\n",
            " [3.12400000e+00 2.23517418e-05 1.77000000e-04 1.00000000e+03\n",
            "  5.59991556e-03]\n",
            " [3.13880000e+00 2.23517418e-04 8.83000000e-04 1.00000000e+04\n",
            "  8.88929246e-04]\n",
            " [3.24000000e+00 2.23517418e-06 5.65000000e-04 1.00000000e+02\n",
            "  3.13240312e-02]\n",
            " [3.24000000e+00 2.23517418e-06 5.65000000e-04 1.00000000e+02\n",
            "  3.13240312e-02]\n",
            " [3.12400000e+00 2.23517418e-05 1.77000000e-04 1.00000000e+03\n",
            "  5.59991556e-03]\n",
            " [3.24000000e+00 2.23517418e-06 5.65000000e-04 1.00000000e+02\n",
            "  3.13240312e-02]\n",
            " [3.24000000e+00 2.23517418e-06 5.65000000e-04 1.00000000e+02\n",
            "  3.13240312e-02]\n",
            " [3.12400000e+00 2.23517418e-05 1.77000000e-04 1.00000000e+03\n",
            "  5.59991556e-03]\n",
            " [3.13880000e+00 2.23517418e-04 8.83000000e-04 1.00000000e+04\n",
            "  8.88929246e-04]\n",
            " [3.13384000e+00 2.23517418e-03 6.39900000e-03 1.00000000e+05\n",
            "  2.46774628e-03]\n",
            " [3.24000000e+00 2.23517418e-06 5.65000000e-04 1.00000000e+02\n",
            "  3.13240312e-02]\n",
            " [3.24000000e+00 2.23517418e-06 5.65000000e-04 1.00000000e+02\n",
            "  3.13240312e-02]\n",
            " [3.12400000e+00 2.23517418e-05 1.77000000e-04 1.00000000e+03\n",
            "  5.59991556e-03]\n",
            " [3.24000000e+00 2.23517418e-06 5.65000000e-04 1.00000000e+02\n",
            "  3.13240312e-02]\n",
            " [3.24000000e+00 2.23517418e-06 5.65000000e-04 1.00000000e+02\n",
            "  3.13240312e-02]\n",
            " [3.12400000e+00 2.23517418e-05 1.77000000e-04 1.00000000e+03\n",
            "  5.59991556e-03]\n",
            " [3.13880000e+00 2.23517418e-04 8.83000000e-04 1.00000000e+04\n",
            "  8.88929246e-04]\n",
            " [3.24000000e+00 2.23517418e-06 5.65000000e-04 1.00000000e+02\n",
            "  3.13240312e-02]\n",
            " [3.24000000e+00 2.23517418e-06 5.65000000e-04 1.00000000e+02\n",
            "  3.13240312e-02]\n",
            " [3.12400000e+00 2.23517418e-05 1.77000000e-04 1.00000000e+03\n",
            "  5.59991556e-03]\n",
            " [3.24000000e+00 2.23517418e-06 5.65000000e-04 1.00000000e+02\n",
            "  3.13240312e-02]\n",
            " [3.24000000e+00 2.23517418e-06 5.65000000e-04 1.00000000e+02\n",
            "  3.13240312e-02]\n",
            " [3.12400000e+00 2.23517418e-05 1.77000000e-04 1.00000000e+03\n",
            "  5.59991556e-03]\n",
            " [3.13880000e+00 2.23517418e-04 8.83000000e-04 1.00000000e+04\n",
            "  8.88929246e-04]\n",
            " [3.13384000e+00 2.23517418e-03 6.39900000e-03 1.00000000e+05\n",
            "  2.46774628e-03]\n",
            " [3.14099600e+00 2.23517418e-02 7.45170000e-02 1.00000000e+06\n",
            "  1.89920736e-04]\n",
            " [3.14153960e+00 2.23517418e-01 6.45642000e-01 1.00000000e+07\n",
            "  1.68874821e-05]\n",
            " [3.24000000e+00 2.23517418e-06 5.65000000e-04 1.00000000e+02\n",
            "  3.13240312e-02]\n",
            " [3.24000000e+00 2.23517418e-06 5.65000000e-04 1.00000000e+02\n",
            "  3.13240312e-02]\n",
            " [3.12400000e+00 2.23517418e-05 1.77000000e-04 1.00000000e+03\n",
            "  5.59991556e-03]\n",
            " [3.24000000e+00 2.23517418e-06 5.65000000e-04 1.00000000e+02\n",
            "  3.13240312e-02]\n",
            " [3.24000000e+00 2.23517418e-06 5.65000000e-04 1.00000000e+02\n",
            "  3.13240312e-02]\n",
            " [3.12400000e+00 2.23517418e-05 1.77000000e-04 1.00000000e+03\n",
            "  5.59991556e-03]\n",
            " [3.13880000e+00 2.23517418e-04 8.83000000e-04 1.00000000e+04\n",
            "  8.88929246e-04]\n",
            " [3.24000000e+00 2.23517418e-06 5.65000000e-04 1.00000000e+02\n",
            "  3.13240312e-02]\n",
            " [3.24000000e+00 2.23517418e-06 5.65000000e-04 1.00000000e+02\n",
            "  3.13240312e-02]\n",
            " [3.12400000e+00 2.23517418e-05 1.77000000e-04 1.00000000e+03\n",
            "  5.59991556e-03]\n",
            " [3.24000000e+00 2.23517418e-06 5.65000000e-04 1.00000000e+02\n",
            "  3.13240312e-02]\n",
            " [3.24000000e+00 2.23517418e-06 5.65000000e-04 1.00000000e+02\n",
            "  3.13240312e-02]\n",
            " [3.12400000e+00 2.23517418e-05 1.77000000e-04 1.00000000e+03\n",
            "  5.59991556e-03]\n",
            " [3.13880000e+00 2.23517418e-04 8.83000000e-04 1.00000000e+04\n",
            "  8.88929246e-04]\n",
            " [3.13384000e+00 2.23517418e-03 6.39900000e-03 1.00000000e+05\n",
            "  2.46774628e-03]\n",
            " [3.24000000e+00 2.23517418e-06 5.65000000e-04 1.00000000e+02\n",
            "  3.13240312e-02]\n",
            " [3.24000000e+00 2.23517418e-06 5.65000000e-04 1.00000000e+02\n",
            "  3.13240312e-02]\n",
            " [3.12400000e+00 2.23517418e-05 1.77000000e-04 1.00000000e+03\n",
            "  5.59991556e-03]\n",
            " [3.24000000e+00 2.23517418e-06 5.65000000e-04 1.00000000e+02\n",
            "  3.13240312e-02]\n",
            " [3.24000000e+00 2.23517418e-06 5.65000000e-04 1.00000000e+02\n",
            "  3.13240312e-02]\n",
            " [3.12400000e+00 2.23517418e-05 1.77000000e-04 1.00000000e+03\n",
            "  5.59991556e-03]\n",
            " [3.13880000e+00 2.23517418e-04 8.83000000e-04 1.00000000e+04\n",
            "  8.88929246e-04]\n",
            " [3.24000000e+00 2.23517418e-06 5.65000000e-04 1.00000000e+02\n",
            "  3.13240312e-02]\n",
            " [3.24000000e+00 2.23517418e-06 5.65000000e-04 1.00000000e+02\n",
            "  3.13240312e-02]\n",
            " [3.12400000e+00 2.23517418e-05 1.77000000e-04 1.00000000e+03\n",
            "  5.59991556e-03]\n",
            " [3.24000000e+00 2.23517418e-06 5.65000000e-04 1.00000000e+02\n",
            "  3.13240312e-02]\n",
            " [3.24000000e+00 2.23517418e-06 5.65000000e-04 1.00000000e+02\n",
            "  3.13240312e-02]\n",
            " [3.12400000e+00 2.23517418e-05 1.77000000e-04 1.00000000e+03\n",
            "  5.59991556e-03]\n",
            " [3.13880000e+00 2.23517418e-04 8.83000000e-04 1.00000000e+04\n",
            "  8.88929246e-04]\n",
            " [3.13384000e+00 2.23517418e-03 6.39900000e-03 1.00000000e+05\n",
            "  2.46774628e-03]\n",
            " [3.14099600e+00 2.23517418e-02 7.45170000e-02 1.00000000e+06\n",
            "  1.89920736e-04]\n",
            " [3.24000000e+00 2.23517418e-06 5.65000000e-04 1.00000000e+02\n",
            "  3.13240312e-02]\n",
            " [3.24000000e+00 2.23517418e-06 5.65000000e-04 1.00000000e+02\n",
            "  3.13240312e-02]\n",
            " [3.12400000e+00 2.23517418e-05 1.77000000e-04 1.00000000e+03\n",
            "  5.59991556e-03]\n",
            " [3.24000000e+00 2.23517418e-06 5.65000000e-04 1.00000000e+02\n",
            "  3.13240312e-02]\n",
            " [3.24000000e+00 2.23517418e-06 5.65000000e-04 1.00000000e+02\n",
            "  3.13240312e-02]\n",
            " [3.12400000e+00 2.23517418e-05 1.77000000e-04 1.00000000e+03\n",
            "  5.59991556e-03]\n",
            " [3.13880000e+00 2.23517418e-04 8.83000000e-04 1.00000000e+04\n",
            "  8.88929246e-04]\n",
            " [3.24000000e+00 2.23517418e-06 5.65000000e-04 1.00000000e+02\n",
            "  3.13240312e-02]\n",
            " [3.24000000e+00 2.23517418e-06 5.65000000e-04 1.00000000e+02\n",
            "  3.13240312e-02]\n",
            " [3.12400000e+00 2.23517418e-05 1.77000000e-04 1.00000000e+03\n",
            "  5.59991556e-03]\n",
            " [3.24000000e+00 2.23517418e-06 5.65000000e-04 1.00000000e+02\n",
            "  3.13240312e-02]\n",
            " [3.24000000e+00 2.23517418e-06 5.65000000e-04 1.00000000e+02\n",
            "  3.13240312e-02]\n",
            " [3.12400000e+00 2.23517418e-05 1.77000000e-04 1.00000000e+03\n",
            "  5.59991556e-03]\n",
            " [3.13880000e+00 2.23517418e-04 8.83000000e-04 1.00000000e+04\n",
            "  8.88929246e-04]\n",
            " [3.13384000e+00 2.23517418e-03 6.39900000e-03 1.00000000e+05\n",
            "  2.46774628e-03]\n",
            " [3.24000000e+00 2.23517418e-06 5.65000000e-04 1.00000000e+02\n",
            "  3.13240312e-02]\n",
            " [3.24000000e+00 2.23517418e-06 5.65000000e-04 1.00000000e+02\n",
            "  3.13240312e-02]\n",
            " [3.12400000e+00 2.23517418e-05 1.77000000e-04 1.00000000e+03\n",
            "  5.59991556e-03]\n",
            " [3.24000000e+00 2.23517418e-06 5.65000000e-04 1.00000000e+02\n",
            "  3.13240312e-02]\n",
            " [3.24000000e+00 2.23517418e-06 5.65000000e-04 1.00000000e+02\n",
            "  3.13240312e-02]\n",
            " [3.12400000e+00 2.23517418e-05 1.77000000e-04 1.00000000e+03\n",
            "  5.59991556e-03]\n",
            " [3.13880000e+00 2.23517418e-04 8.83000000e-04 1.00000000e+04\n",
            "  8.88929246e-04]\n",
            " [3.24000000e+00 2.23517418e-06 5.65000000e-04 1.00000000e+02\n",
            "  3.13240312e-02]\n",
            " [3.24000000e+00 2.23517418e-06 5.65000000e-04 1.00000000e+02\n",
            "  3.13240312e-02]\n",
            " [3.12400000e+00 2.23517418e-05 1.77000000e-04 1.00000000e+03\n",
            "  5.59991556e-03]\n",
            " [3.24000000e+00 2.23517418e-06 5.65000000e-04 1.00000000e+02\n",
            "  3.13240312e-02]\n",
            " [3.24000000e+00 2.23517418e-06 5.65000000e-04 1.00000000e+02\n",
            "  3.13240312e-02]\n",
            " [3.12400000e+00 2.23517418e-05 1.77000000e-04 1.00000000e+03\n",
            "  5.59991556e-03]\n",
            " [3.13880000e+00 2.23517418e-04 8.83000000e-04 1.00000000e+04\n",
            "  8.88929246e-04]\n",
            " [3.13384000e+00 2.23517418e-03 6.39900000e-03 1.00000000e+05\n",
            "  2.46774628e-03]\n",
            " [3.14099600e+00 2.23517418e-02 7.45170000e-02 1.00000000e+06\n",
            "  1.89920736e-04]\n",
            " [3.14153960e+00 2.23517418e-01 6.45642000e-01 1.00000000e+07\n",
            "  1.68874821e-05]\n",
            " [3.14153464e+00 2.23517418e+00 4.09034500e+00 1.00000000e+08\n",
            "  1.84662992e-05]]\n"
          ]
        }
      ]
    },
    {
      "cell_type": "code",
      "source": [
        "import numpy as np\n",
        "import matplotlib.pyplot as plt\n",
        "import math\n",
        "\n",
        "def plot_log_log():\n",
        "    # Reading the data from the CSV file\n",
        "    data = np.loadtxt(fname='pi_estimation.csv', delimiter=',')\n",
        "\n",
        "    NVal = data[:, 3]  # The number of samples (N)\n",
        "    ErrVal = data[:, 4]  # The relative error\n",
        "    MemVal = data[:, 2]  # Memory usage in GiB\n",
        "    TimeVal = data[:, 1]  # Compute time in seconds\n",
        "\n",
        "    # Converting the values to log scale\n",
        "    logN = np.log10(NVal)\n",
        "    logErr = np.log10(ErrVal)\n",
        "    logMem = np.log10(MemVal)\n",
        "    logTime = np.log10(TimeVal)\n",
        "\n",
        "    # Create a figure and axis for plotting\n",
        "    fig, ax = plt.subplots(2, 2, figsize=(12, 10))\n",
        "\n",
        "    # Plot: N vs error\n",
        "    ax[0, 0].scatter(logN, logErr)\n",
        "    ax[0, 0].set_title('log(N) vs log(Error)')\n",
        "    ax[0, 0].set_xlabel('log(N)')\n",
        "    ax[0, 0].set_ylabel('log(Error)')\n",
        "\n",
        "    # Plot: N vs memory\n",
        "    ax[0, 1].scatter(logN, logMem)\n",
        "    ax[0, 1].set_title('log(N) vs log(Memory)')\n",
        "    ax[0, 1].set_xlabel('log(N)')\n",
        "    ax[0, 1].set_ylabel('log(Memory)')\n",
        "\n",
        "    # Plot: N vs compute time\n",
        "    ax[1, 0].scatter(logN, logTime)\n",
        "    ax[1, 0].set_title('log(N) vs log(Compute Time)')\n",
        "    ax[1, 0].set_xlabel('log(N)')\n",
        "    ax[1, 0].set_ylabel('log(Compute Time)')\n",
        "\n",
        "    # Tight layout to prevent overlap\n",
        "    plt.show()\n",
        "\n",
        "if __name__ == '__main__':\n",
        "    plot_log_log()\n"
      ],
      "metadata": {
        "colab": {
          "base_uri": "https://localhost:8080/",
          "height": 865
        },
        "id": "_-DeYFi3lRbs",
        "outputId": "34599b9e-2ad5-4f15-fbe9-7c0027a1cff6"
      },
      "execution_count": 31,
      "outputs": [
        {
          "output_type": "display_data",
          "data": {
            "text/plain": [
              "<Figure size 1200x1000 with 4 Axes>"
            ],
            "image/png": "[encoded data removed]"
          },
          "metadata": {}
        }
      ]
    },
    {
      "cell_type": "code",
      "source": [
        "import mathplotlib.pyplot as plt\n",
        "\n",
        "NVal = data[:, 3]  # The number of samples (N)\n",
        "ErrVal = data[:, 4]  # The relative error\n",
        "MemVal = data[:, 2]  # Memory usage in GiB\n",
        "TimeVal = data[:, 1]\n",
        "\n",
        "logN = []\n",
        "for n in range (len(NVal)):\n",
        "  logN.append (math.log(NVal[n], 10))\n",
        "ErrVal=data[:, 2]\n",
        "logErr = []\n",
        "for err in ErrVal:\n",
        "  logErr.append (math.log(err,10))\n",
        "plt.scatter(logN, logErr)"
      ],
      "metadata": {
        "colab": {
          "base_uri": "https://localhost:8080/",
          "height": 378
        },
        "id": "DVJ0gK5BnlGb",
        "outputId": "2eb4cd68-ae2b-4e74-d42b-f5f23f1be3bf"
      },
      "execution_count": 38,
      "outputs": [
        {
          "output_type": "error",
          "ename": "ModuleNotFoundError",
          "evalue": "No module named 'mathplotlib'",
          "traceback": [
            "\u001b[0;31m---------------------------------------------------------------------------\u001b[0m",
            "\u001b[0;31mModuleNotFoundError\u001b[0m                       Traceback (most recent call last)",
            "\u001b[0;32m<ipython-input-38-456404e4de04>\u001b[0m in \u001b[0;36m<cell line: 0>\u001b[0;34m()\u001b[0m\n\u001b[0;32m----> 1\u001b[0;31m \u001b[0;32mimport\u001b[0m \u001b[0mmathplotlib\u001b[0m\u001b[0;34m.\u001b[0m\u001b[0mpyplot\u001b[0m \u001b[0;32mas\u001b[0m \u001b[0mplt\u001b[0m\u001b[0;34m\u001b[0m\u001b[0;34m\u001b[0m\u001b[0m\n\u001b[0m\u001b[1;32m      2\u001b[0m \u001b[0;34m\u001b[0m\u001b[0m\n\u001b[1;32m      3\u001b[0m \u001b[0mNVal\u001b[0m \u001b[0;34m=\u001b[0m \u001b[0mdata\u001b[0m\u001b[0;34m[\u001b[0m\u001b[0;34m:\u001b[0m\u001b[0;34m,\u001b[0m \u001b[0;36m3\u001b[0m\u001b[0;34m]\u001b[0m  \u001b[0;31m# The number of samples (N)\u001b[0m\u001b[0;34m\u001b[0m\u001b[0;34m\u001b[0m\u001b[0m\n\u001b[1;32m      4\u001b[0m \u001b[0mErrVal\u001b[0m \u001b[0;34m=\u001b[0m \u001b[0mdata\u001b[0m\u001b[0;34m[\u001b[0m\u001b[0;34m:\u001b[0m\u001b[0;34m,\u001b[0m \u001b[0;36m4\u001b[0m\u001b[0;34m]\u001b[0m  \u001b[0;31m# The relative error\u001b[0m\u001b[0;34m\u001b[0m\u001b[0;34m\u001b[0m\u001b[0m\n\u001b[1;32m      5\u001b[0m \u001b[0mMemVal\u001b[0m \u001b[0;34m=\u001b[0m \u001b[0mdata\u001b[0m\u001b[0;34m[\u001b[0m\u001b[0;34m:\u001b[0m\u001b[0;34m,\u001b[0m \u001b[0;36m2\u001b[0m\u001b[0;34m]\u001b[0m  \u001b[0;31m# Memory usage in GiB\u001b[0m\u001b[0;34m\u001b[0m\u001b[0;34m\u001b[0m\u001b[0m\n",
            "\u001b[0;31mModuleNotFoundError\u001b[0m: No module named 'mathplotlib'",
            "",
            "\u001b[0;31m---------------------------------------------------------------------------\u001b[0;32m\nNOTE: If your import is failing due to a missing package, you can\nmanually install dependencies using either !pip or !apt.\n\nTo view examples of installing some common dependencies, click the\n\"Open Examples\" button below.\n\u001b[0;31m---------------------------------------------------------------------------\u001b[0m\n"
          ],
          "errorDetails": {
            "actions": [
              {
                "action": "open_url",
                "actionText": "Open Examples",
                "url": "/notebooks/snippets/importing_libraries.ipynb"
              }
            ]
          }
        }
      ]
    },
    {
      "cell_type": "code",
      "source": [],
      "metadata": {
        "id": "E-gABme9pWC3"
      },
      "execution_count": null,
      "outputs": []
    }
  ]
}